{
 "cells": [
  {
   "cell_type": "markdown",
   "metadata": {},
   "source": [
    "## What makes a successful movie?"
   ]
  },
  {
   "cell_type": "markdown",
   "metadata": {},
   "source": [
    "## Data Collection\n",
    "We scraped the IMDb website for movie metadata. We started from the advance search result page so we would only get results from a specific time range and valid number of ratings. \n",
    "The raw metadata looks like this: \n",
    "![alt webpage](https://i.imgur.com/CdMKpSx.png)\n",
    "\n"
   ]
  },
  {
   "cell_type": "markdown",
   "metadata": {},
   "source": [
    "In order to obtain the data, we used 2 libraries. First we get the webpages in HTML using requests. Secondly we used beautiful soup to parse the HTML and retrieved the features. For the features, we decided to encode genre as 1s and 0s using one-hot encoding which will facilitate our further investigation.\n"
   ]
  },
  {
   "cell_type": "code",
   "execution_count": 58,
   "metadata": {
    "collapsed": true
   },
   "outputs": [],
   "source": [
    "import requests, re\n",
    "import pandas as pd\n",
    "import numpy as np\n",
    "from time import sleep\n",
    "from bs4 import BeautifulSoup\n",
    "GENRES = ['Action', 'Adventure', 'Animation', 'Biography', 'Comedy', 'Crime', 'Documentary', 'Drama', 'Family', \n",
    "'Fantasy', 'Film-Noir', 'Game-Show', 'History', 'Horror', 'Music', 'Musical', 'Mystery', 'News', 'Reality-TV', \n",
    "'Romance', 'Sci-Fi', 'Sport', 'Talk-Show', 'Thriller', 'War', 'Western']"
   ]
  },
  {
   "cell_type": "markdown",
   "metadata": {},
   "source": [
    "the function that parses a single HTML page"
   ]
  },
  {
   "cell_type": "code",
   "execution_count": 59,
   "metadata": {
    "collapsed": true
   },
   "outputs": [],
   "source": [
    "def parse_page(html, df):\n",
    "    def parse_votes(resultSet):\n",
    "        try:\n",
    "            nvs = resultSet[0].find_all(\"span\", {\"name\" :\"nv\"})\n",
    "            if (len(nvs) == 1):\n",
    "                return (int(nvs[0].text.replace(\",\", \"\")), np.nan)\n",
    "            return (int(nvs[0].text.replace(\",\", \"\")), nvs[1].text)\n",
    "        except: \n",
    "            return (0,0)\n",
    "    \n",
    "    soup = BeautifulSoup(html, 'html.parser')\n",
    "    # make a list of movies\n",
    "    listerlist = soup.find_all('div', class_ = \"lister-item mode-advanced\")\n",
    "    \n",
    "    # get all the titles\n",
    "    imgList = [movieItem.find('img') for movieItem in listerlist]\n",
    "    nameList = [imgItem[\"alt\"] for imgItem in imgList]\n",
    "    \n",
    "    # get all the ratings\n",
    "    ratingsRaw = [movieItem.find(\"strong\") for movieItem in listerlist]\n",
    "    ratings = [float(rawRating.text) for rawRating in ratingsRaw]\n",
    "\n",
    "    # get the number of votes. Due to the weird HTML structure, the gross and vote are listed together so it needs to be parsed\n",
    "    voteNumRaw = [movieItem.find_all(\"p\", class_=\"sort-num_votes-visible\") for movieItem in listerlist]\n",
    "    votes = [parse_votes(raw) for raw in voteNumRaw]\n",
    "\n",
    "    # get the year of release\n",
    "    yearsRaw = [movieItem.find(\"span\", class_ = \"lister-item-year text-muted unbold\") for movieItem in listerlist]\n",
    "    years = [int(re.findall(\"\\d{4}\", rawYear.text)[0]) for rawYear in yearsRaw]\n",
    "\n",
    "    # get the list of genres of a film\n",
    "    genresRaw = [movieItem.find(\"span\", class_ = \"genre\") for movieItem in listerlist]\n",
    "    genres = [(list(map(lambda x: x.strip(), rawGenre.text.split(\",\"))) if (rawGenre !=None) else []) for rawGenre in genresRaw]\n",
    "    \n",
    "    # get the summaries. Sometimes there is some exception due to the ill-formatted HTML\n",
    "    try:\n",
    "        summaryRaw = [movieItem.find_all(\"p\", class_=\"text-muted\") for movieItem in listerlist]\n",
    "        summaries = [raw[1].text.strip() for raw in summaryRaw]\n",
    "    except:\n",
    "        summaries = [\"\"] * len(nameList)\n",
    "\n",
    "    # insert a film as a column to the overall data frame\n",
    "    for i in range(len(nameList)):  \n",
    "        info = dict()\n",
    "        info[\"Name\"] = nameList[i]\n",
    "        info[\"Rating\"] = ratings[i]\n",
    "        info[\"Year\"] =  years[i]\n",
    "        info[\"Votes\"] = votes[i][0]\n",
    "        info[\"Gross\"] = votes[i][1]\n",
    "        info[\"Summary\"] = summaries[i]\n",
    "\n",
    "        for GENRE in GENRES:\n",
    "            info[\"Genre_\" + GENRE] = (int(GENRE in genres[i]))\n",
    "        df = df.append(info, ignore_index=True)\n",
    "    \n",
    "    # retrieve the link to the next 250 movies\n",
    "    nextRaw = soup.select(\"a.lister-page-next.next-page\")\n",
    "    nextURL = nextRaw[0][\"href\"] if (len(nextRaw) > 0) else None\n",
    "    if (nextURL != None):\n",
    "        nextURL = \"http://www.imdb.com/search/title\"+nextURL\n",
    "    return(df, nextURL)"
   ]
  },
  {
   "cell_type": "markdown",
   "metadata": {},
   "source": [
    "below is an example of a processed webpage."
   ]
  },
  {
   "cell_type": "code",
   "execution_count": 60,
   "metadata": {
    "scrolled": true
   },
   "outputs": [
    {
     "name": "stdout",
     "output_type": "stream",
     "text": [
      "http://www.imdb.com/search/title?title_type=feature&release_date=2014-01-01,&num_votes=1,&countries=us&count=250&sort=release_date,asc&page=2&ref_=adv_nxt\n"
     ]
    },
    {
     "data": {
      "text/html": [
       "<div>\n",
       "<style>\n",
       "    .dataframe thead tr:only-child th {\n",
       "        text-align: right;\n",
       "    }\n",
       "\n",
       "    .dataframe thead th {\n",
       "        text-align: left;\n",
       "    }\n",
       "\n",
       "    .dataframe tbody tr th {\n",
       "        vertical-align: top;\n",
       "    }\n",
       "</style>\n",
       "<table border=\"1\" class=\"dataframe\">\n",
       "  <thead>\n",
       "    <tr style=\"text-align: right;\">\n",
       "      <th></th>\n",
       "      <th>Name</th>\n",
       "      <th>Rating</th>\n",
       "      <th>Year</th>\n",
       "      <th>Votes</th>\n",
       "      <th>Gross</th>\n",
       "      <th>Summary</th>\n",
       "      <th>Genre_Action</th>\n",
       "      <th>Genre_Adventure</th>\n",
       "      <th>Genre_Animation</th>\n",
       "      <th>Genre_Biography</th>\n",
       "      <th>...</th>\n",
       "      <th>Genre_Mystery</th>\n",
       "      <th>Genre_News</th>\n",
       "      <th>Genre_Reality-TV</th>\n",
       "      <th>Genre_Romance</th>\n",
       "      <th>Genre_Sci-Fi</th>\n",
       "      <th>Genre_Sport</th>\n",
       "      <th>Genre_Talk-Show</th>\n",
       "      <th>Genre_Thriller</th>\n",
       "      <th>Genre_War</th>\n",
       "      <th>Genre_Western</th>\n",
       "    </tr>\n",
       "  </thead>\n",
       "  <tbody>\n",
       "    <tr>\n",
       "      <th>0</th>\n",
       "      <td>Paranormal Activity: The Marked Ones</td>\n",
       "      <td>5.0</td>\n",
       "      <td>2014</td>\n",
       "      <td>35349</td>\n",
       "      <td>$32.46M</td>\n",
       "      <td>When a young man becomes the target of a malev...</td>\n",
       "      <td>0</td>\n",
       "      <td>0</td>\n",
       "      <td>0</td>\n",
       "      <td>0</td>\n",
       "      <td>...</td>\n",
       "      <td>0</td>\n",
       "      <td>0</td>\n",
       "      <td>0</td>\n",
       "      <td>0</td>\n",
       "      <td>0</td>\n",
       "      <td>0</td>\n",
       "      <td>0</td>\n",
       "      <td>1</td>\n",
       "      <td>0</td>\n",
       "      <td>0</td>\n",
       "    </tr>\n",
       "    <tr>\n",
       "      <th>1</th>\n",
       "      <td>Layla Live or Die</td>\n",
       "      <td>5.8</td>\n",
       "      <td>2014</td>\n",
       "      <td>17</td>\n",
       "      <td>NaN</td>\n",
       "      <td>A Middle Eastern girl comes to America to for ...</td>\n",
       "      <td>0</td>\n",
       "      <td>0</td>\n",
       "      <td>0</td>\n",
       "      <td>0</td>\n",
       "      <td>...</td>\n",
       "      <td>0</td>\n",
       "      <td>0</td>\n",
       "      <td>0</td>\n",
       "      <td>0</td>\n",
       "      <td>0</td>\n",
       "      <td>0</td>\n",
       "      <td>0</td>\n",
       "      <td>0</td>\n",
       "      <td>0</td>\n",
       "      <td>0</td>\n",
       "    </tr>\n",
       "    <tr>\n",
       "      <th>2</th>\n",
       "      <td>Percentage</td>\n",
       "      <td>6.1</td>\n",
       "      <td>2014</td>\n",
       "      <td>1937</td>\n",
       "      <td>NaN</td>\n",
       "      <td>In Miami, two hustlers on the run set up a cre...</td>\n",
       "      <td>1</td>\n",
       "      <td>0</td>\n",
       "      <td>0</td>\n",
       "      <td>0</td>\n",
       "      <td>...</td>\n",
       "      <td>0</td>\n",
       "      <td>0</td>\n",
       "      <td>0</td>\n",
       "      <td>0</td>\n",
       "      <td>0</td>\n",
       "      <td>0</td>\n",
       "      <td>0</td>\n",
       "      <td>1</td>\n",
       "      <td>0</td>\n",
       "      <td>0</td>\n",
       "    </tr>\n",
       "    <tr>\n",
       "      <th>3</th>\n",
       "      <td>Grace of God</td>\n",
       "      <td>5.7</td>\n",
       "      <td>2014</td>\n",
       "      <td>20</td>\n",
       "      <td>NaN</td>\n",
       "      <td>Having lost his faith many years ago, Detectiv...</td>\n",
       "      <td>0</td>\n",
       "      <td>0</td>\n",
       "      <td>0</td>\n",
       "      <td>0</td>\n",
       "      <td>...</td>\n",
       "      <td>0</td>\n",
       "      <td>0</td>\n",
       "      <td>0</td>\n",
       "      <td>0</td>\n",
       "      <td>0</td>\n",
       "      <td>0</td>\n",
       "      <td>0</td>\n",
       "      <td>0</td>\n",
       "      <td>0</td>\n",
       "      <td>0</td>\n",
       "    </tr>\n",
       "    <tr>\n",
       "      <th>4</th>\n",
       "      <td>Let's Ruin It with Babies</td>\n",
       "      <td>5.5</td>\n",
       "      <td>2014</td>\n",
       "      <td>212</td>\n",
       "      <td>NaN</td>\n",
       "      <td>Channing has it all- a beautiful house, a rock...</td>\n",
       "      <td>0</td>\n",
       "      <td>0</td>\n",
       "      <td>0</td>\n",
       "      <td>0</td>\n",
       "      <td>...</td>\n",
       "      <td>0</td>\n",
       "      <td>0</td>\n",
       "      <td>0</td>\n",
       "      <td>1</td>\n",
       "      <td>0</td>\n",
       "      <td>0</td>\n",
       "      <td>0</td>\n",
       "      <td>0</td>\n",
       "      <td>0</td>\n",
       "      <td>0</td>\n",
       "    </tr>\n",
       "  </tbody>\n",
       "</table>\n",
       "<p>5 rows × 32 columns</p>\n",
       "</div>"
      ],
      "text/plain": [
       "                                   Name  Rating  Year  Votes    Gross  \\\n",
       "0  Paranormal Activity: The Marked Ones     5.0  2014  35349  $32.46M   \n",
       "1                     Layla Live or Die     5.8  2014     17      NaN   \n",
       "2                            Percentage     6.1  2014   1937      NaN   \n",
       "3                          Grace of God     5.7  2014     20      NaN   \n",
       "4             Let's Ruin It with Babies     5.5  2014    212      NaN   \n",
       "\n",
       "                                             Summary Genre_Action  \\\n",
       "0  When a young man becomes the target of a malev...            0   \n",
       "1  A Middle Eastern girl comes to America to for ...            0   \n",
       "2  In Miami, two hustlers on the run set up a cre...            1   \n",
       "3  Having lost his faith many years ago, Detectiv...            0   \n",
       "4  Channing has it all- a beautiful house, a rock...            0   \n",
       "\n",
       "  Genre_Adventure Genre_Animation Genre_Biography      ...      Genre_Mystery  \\\n",
       "0               0               0               0      ...                  0   \n",
       "1               0               0               0      ...                  0   \n",
       "2               0               0               0      ...                  0   \n",
       "3               0               0               0      ...                  0   \n",
       "4               0               0               0      ...                  0   \n",
       "\n",
       "  Genre_News Genre_Reality-TV Genre_Romance Genre_Sci-Fi Genre_Sport  \\\n",
       "0          0                0             0            0           0   \n",
       "1          0                0             0            0           0   \n",
       "2          0                0             0            0           0   \n",
       "3          0                0             0            0           0   \n",
       "4          0                0             1            0           0   \n",
       "\n",
       "  Genre_Talk-Show Genre_Thriller Genre_War Genre_Western  \n",
       "0               0              1         0             0  \n",
       "1               0              0         0             0  \n",
       "2               0              1         0             0  \n",
       "3               0              0         0             0  \n",
       "4               0              0         0             0  \n",
       "\n",
       "[5 rows x 32 columns]"
      ]
     },
     "execution_count": 60,
     "metadata": {},
     "output_type": "execute_result"
    }
   ],
   "source": [
    "d = pd.DataFrame(columns=['Name', \"Rating\", \"Year\", \"Votes\", \"Gross\", \"Summary\",\n",
    "                            \"Genre_Action\", \"Genre_Adventure\", \"Genre_Animation\",\n",
    "                            \"Genre_Biography\", \"Genre_Comedy\", \"Genre_Crime\", \n",
    "                            \"Genre_Documentary\", \"Genre_Drama\", \"Genre_Family\",\n",
    "                            \"Genre_Fantasy\", \"Genre_Film-Noir\", \"Genre_Game-Show\",\n",
    "                            \"Genre_History\", \"Genre_Horror\", \"Genre_Music\",\n",
    "                            \"Genre_Musical\", \"Genre_Mystery\", \"Genre_News\", \n",
    "                            \"Genre_Reality-TV\", \"Genre_Romance\", \"Genre_Sci-Fi\",\n",
    "                            \"Genre_Sport\", \"Genre_Talk-Show\", \"Genre_Thriller\",\n",
    "                            \"Genre_War\", \"Genre_Western\"])\n",
    "# demo & debug\n",
    "html = requests.get(\"https://www.imdb.com/search/title?title_type=feature&release_date=2014-01-01,&num_votes=1,&countries=us&count=250&sort=release_date,asc\").text\n",
    "(df, link) = (parse_page(html, d))\n",
    "print(link)\n",
    "df.head()"
   ]
  },
  {
   "cell_type": "markdown",
   "metadata": {},
   "source": [
    "Then we chained the processing together using a wrapper that retrieves all the movies.\n",
    "During this process, we observed that there is a weird behavior of IMDb. It only gives us 10,000 films after a query from advanced search. So we separated our calls into 3 to get the data."
   ]
  },
  {
   "cell_type": "code",
   "execution_count": 61,
   "metadata": {
    "collapsed": true
   },
   "outputs": [],
   "source": [
    "# the function that get the html text all related to one link.\n",
    "def parseAllAfter1950(url, fileName):\n",
    "    df = pd.DataFrame(columns=['Name', \"Rating\", \"Year\", \"Votes\", \"Gross\", \"Summary\",\n",
    "                            \"Genre_Action\", \"Genre_Adventure\", \"Genre_Animation\",\n",
    "                            \"Genre_Biography\", \"Genre_Comedy\", \"Genre_Crime\", \n",
    "                            \"Genre_Documentary\", \"Genre_Drama\", \"Genre_Family\",\n",
    "                            \"Genre_Fantasy\", \"Genre_Film-Noir\", \"Genre_Game-Show\",\n",
    "                            \"Genre_History\", \"Genre_Horror\", \"Genre_Music\",\n",
    "                            \"Genre_Musical\", \"Genre_Mystery\", \"Genre_News\", \n",
    "                            \"Genre_Reality-TV\", \"Genre_Romance\", \"Genre_Sci-Fi\",\n",
    "                            \"Genre_Sport\", \"Genre_Talk-Show\", \"Genre_Thriller\",\n",
    "                            \"Genre_War\", \"Genre_Western\"])\n",
    "    while(url):\n",
    "        html = requests.get(url).text\n",
    "        try:\n",
    "            (df, url) = parse_page(html, df)\n",
    "        except:\n",
    "            print(url)\n",
    "        sleep(0.2)\n",
    "    # save to a pickle for future use\n",
    "    df.to_pickle(fileName)\n",
    "    \n",
    "# link = \"http://www.imdb.com/search/title?title_type=feature&release_date=1950-01-01,&num_votes=1,&countries=us&sort=release_date,asc\"\n",
    "# link2 = \"http://www.imdb.com/search/title?title_type=feature&release_date=1985-10-04,&num_votes=1,&countries=us&sort=release_date,asc\"\n",
    "# link3 = \"http://www.imdb.com/search/title?title_type=feature&release_date=2001-01-01,&num_votes=1,&countries=us&count=250&sort=release_date,asc\""
   ]
  },
  {
   "cell_type": "markdown",
   "metadata": {},
   "source": [
    "After scraping, we concatenated the dataframes together to get a complete data set."
   ]
  },
  {
   "cell_type": "code",
   "execution_count": 62,
   "metadata": {
    "scrolled": true
   },
   "outputs": [
    {
     "data": {
      "text/html": [
       "<div>\n",
       "<style>\n",
       "    .dataframe thead tr:only-child th {\n",
       "        text-align: right;\n",
       "    }\n",
       "\n",
       "    .dataframe thead th {\n",
       "        text-align: left;\n",
       "    }\n",
       "\n",
       "    .dataframe tbody tr th {\n",
       "        vertical-align: top;\n",
       "    }\n",
       "</style>\n",
       "<table border=\"1\" class=\"dataframe\">\n",
       "  <thead>\n",
       "    <tr style=\"text-align: right;\">\n",
       "      <th></th>\n",
       "      <th>Name</th>\n",
       "      <th>Rating</th>\n",
       "      <th>Year</th>\n",
       "      <th>Votes</th>\n",
       "      <th>Gross</th>\n",
       "      <th>Summary</th>\n",
       "      <th>Genre_Action</th>\n",
       "      <th>Genre_Adventure</th>\n",
       "      <th>Genre_Animation</th>\n",
       "      <th>Genre_Biography</th>\n",
       "      <th>...</th>\n",
       "      <th>Genre_Mystery</th>\n",
       "      <th>Genre_News</th>\n",
       "      <th>Genre_Reality-TV</th>\n",
       "      <th>Genre_Romance</th>\n",
       "      <th>Genre_Sci-Fi</th>\n",
       "      <th>Genre_Sport</th>\n",
       "      <th>Genre_Talk-Show</th>\n",
       "      <th>Genre_Thriller</th>\n",
       "      <th>Genre_War</th>\n",
       "      <th>Genre_Western</th>\n",
       "    </tr>\n",
       "  </thead>\n",
       "  <tbody>\n",
       "    <tr>\n",
       "      <th>0</th>\n",
       "      <td>The Flying Saucer</td>\n",
       "      <td>3.8</td>\n",
       "      <td>1950</td>\n",
       "      <td>301</td>\n",
       "      <td>NaN</td>\n",
       "      <td>Both the CIA and KGB investigate UFOs in Alask...</td>\n",
       "      <td>0</td>\n",
       "      <td>0</td>\n",
       "      <td>0</td>\n",
       "      <td>0</td>\n",
       "      <td>...</td>\n",
       "      <td>0</td>\n",
       "      <td>0</td>\n",
       "      <td>0</td>\n",
       "      <td>0</td>\n",
       "      <td>1</td>\n",
       "      <td>0</td>\n",
       "      <td>0</td>\n",
       "      <td>1</td>\n",
       "      <td>0</td>\n",
       "      <td>0</td>\n",
       "    </tr>\n",
       "    <tr>\n",
       "      <th>1</th>\n",
       "      <td>The File on Thelma Jordon</td>\n",
       "      <td>7.0</td>\n",
       "      <td>1950</td>\n",
       "      <td>1523</td>\n",
       "      <td>NaN</td>\n",
       "      <td>Assistant district attorney Cleve Marshall fal...</td>\n",
       "      <td>0</td>\n",
       "      <td>0</td>\n",
       "      <td>0</td>\n",
       "      <td>0</td>\n",
       "      <td>...</td>\n",
       "      <td>0</td>\n",
       "      <td>0</td>\n",
       "      <td>0</td>\n",
       "      <td>0</td>\n",
       "      <td>0</td>\n",
       "      <td>0</td>\n",
       "      <td>0</td>\n",
       "      <td>0</td>\n",
       "      <td>0</td>\n",
       "      <td>0</td>\n",
       "    </tr>\n",
       "    <tr>\n",
       "      <th>2</th>\n",
       "      <td>The Traveling Saleswoman</td>\n",
       "      <td>6.3</td>\n",
       "      <td>1950</td>\n",
       "      <td>25</td>\n",
       "      <td>NaN</td>\n",
       "      <td>In this western comedy, the King Soap Company ...</td>\n",
       "      <td>1</td>\n",
       "      <td>0</td>\n",
       "      <td>0</td>\n",
       "      <td>0</td>\n",
       "      <td>...</td>\n",
       "      <td>0</td>\n",
       "      <td>0</td>\n",
       "      <td>0</td>\n",
       "      <td>0</td>\n",
       "      <td>0</td>\n",
       "      <td>0</td>\n",
       "      <td>0</td>\n",
       "      <td>0</td>\n",
       "      <td>0</td>\n",
       "      <td>0</td>\n",
       "    </tr>\n",
       "    <tr>\n",
       "      <th>3</th>\n",
       "      <td>Davy Crockett, Indian Scout</td>\n",
       "      <td>5.5</td>\n",
       "      <td>1950</td>\n",
       "      <td>191</td>\n",
       "      <td>NaN</td>\n",
       "      <td>Davy Crockett (not the famous Alamo hero, but ...</td>\n",
       "      <td>0</td>\n",
       "      <td>1</td>\n",
       "      <td>0</td>\n",
       "      <td>0</td>\n",
       "      <td>...</td>\n",
       "      <td>0</td>\n",
       "      <td>0</td>\n",
       "      <td>0</td>\n",
       "      <td>0</td>\n",
       "      <td>0</td>\n",
       "      <td>0</td>\n",
       "      <td>0</td>\n",
       "      <td>0</td>\n",
       "      <td>0</td>\n",
       "      <td>1</td>\n",
       "    </tr>\n",
       "    <tr>\n",
       "      <th>4</th>\n",
       "      <td>Cry Murder</td>\n",
       "      <td>5.8</td>\n",
       "      <td>1950</td>\n",
       "      <td>6</td>\n",
       "      <td>NaN</td>\n",
       "      <td>A young actress has retired from films to marr...</td>\n",
       "      <td>0</td>\n",
       "      <td>0</td>\n",
       "      <td>0</td>\n",
       "      <td>0</td>\n",
       "      <td>...</td>\n",
       "      <td>1</td>\n",
       "      <td>0</td>\n",
       "      <td>0</td>\n",
       "      <td>0</td>\n",
       "      <td>0</td>\n",
       "      <td>0</td>\n",
       "      <td>0</td>\n",
       "      <td>0</td>\n",
       "      <td>0</td>\n",
       "      <td>0</td>\n",
       "    </tr>\n",
       "  </tbody>\n",
       "</table>\n",
       "<p>5 rows × 32 columns</p>\n",
       "</div>"
      ],
      "text/plain": [
       "                          Name  Rating  Year Votes Gross  \\\n",
       "0            The Flying Saucer     3.8  1950   301   NaN   \n",
       "1    The File on Thelma Jordon     7.0  1950  1523   NaN   \n",
       "2     The Traveling Saleswoman     6.3  1950    25   NaN   \n",
       "3  Davy Crockett, Indian Scout     5.5  1950   191   NaN   \n",
       "4                   Cry Murder     5.8  1950     6   NaN   \n",
       "\n",
       "                                             Summary Genre_Action  \\\n",
       "0  Both the CIA and KGB investigate UFOs in Alask...            0   \n",
       "1  Assistant district attorney Cleve Marshall fal...            0   \n",
       "2  In this western comedy, the King Soap Company ...            1   \n",
       "3  Davy Crockett (not the famous Alamo hero, but ...            0   \n",
       "4  A young actress has retired from films to marr...            0   \n",
       "\n",
       "  Genre_Adventure Genre_Animation Genre_Biography      ...      Genre_Mystery  \\\n",
       "0               0               0               0      ...                  0   \n",
       "1               0               0               0      ...                  0   \n",
       "2               0               0               0      ...                  0   \n",
       "3               1               0               0      ...                  0   \n",
       "4               0               0               0      ...                  1   \n",
       "\n",
       "  Genre_News Genre_Reality-TV Genre_Romance Genre_Sci-Fi Genre_Sport  \\\n",
       "0          0                0             0            1           0   \n",
       "1          0                0             0            0           0   \n",
       "2          0                0             0            0           0   \n",
       "3          0                0             0            0           0   \n",
       "4          0                0             0            0           0   \n",
       "\n",
       "  Genre_Talk-Show Genre_Thriller Genre_War Genre_Western  \n",
       "0               0              1         0             0  \n",
       "1               0              0         0             0  \n",
       "2               0              0         0             0  \n",
       "3               0              0         0             1  \n",
       "4               0              0         0             0  \n",
       "\n",
       "[5 rows x 32 columns]"
      ]
     },
     "execution_count": 62,
     "metadata": {},
     "output_type": "execute_result"
    }
   ],
   "source": [
    "df1 = pd.read_pickle(\"mov-1.pkl\")\n",
    "df2 = pd.read_pickle(\"mov-2.pkl\")\n",
    "df3 = pd.read_pickle(\"mov-3.pkl\")\n",
    "movie_df = pd.concat([df1,df2, df3]).drop_duplicates().reset_index(drop=True)\n",
    "movie_df = movie_df[movie_df[movie_df.columns[6:]].sum(axis = 1) != 0]\n",
    "movie_df = movie_df[movie_df['Year'] <= 2010]\n",
    "movie_df.head()"
   ]
  },
  {
   "cell_type": "markdown",
   "metadata": {},
   "source": [
    "Then we observed that some genres only have very few movie instances. This is problematic for our future processing so we removed those genres."
   ]
  },
  {
   "cell_type": "code",
   "execution_count": 63,
   "metadata": {
    "collapsed": true,
    "scrolled": true
   },
   "outputs": [],
   "source": [
    "#remove genres\n",
    "generes = movie_df.columns[6:]\n",
    "genre_count = movie_df.iloc[:,6:].sum()\n",
    "genres_to_remove= movie_df.iloc[:,6:].columns[(genre_count < 200)]\n",
    "try:\n",
    "    movie_df = movie_df.drop(genres_to_remove, axis = 1)\n",
    "except:\n",
    "    pass"
   ]
  },
  {
   "cell_type": "markdown",
   "metadata": {},
   "source": [
    "The last step we did to the data frame is to process the gross column (which was text in the format \"$1.5M\" into numbers that can be used."
   ]
  },
  {
   "cell_type": "code",
   "execution_count": 64,
   "metadata": {
    "collapsed": true
   },
   "outputs": [],
   "source": [
    "def parse_gross(s):    \n",
    "    try:\n",
    "        if (s[-1]==\"M\"):\n",
    "            return (float(s[1:-1]))\n",
    "    except:\n",
    "        return np.nan    \n",
    "movie_df[\"Gross\"] = movie_df[\"Gross\"].apply(parse_gross)"
   ]
  },
  {
   "cell_type": "markdown",
   "metadata": {},
   "source": [
    "By now, we have gotten a movie_df data frame that contains all the information we may use to analyze."
   ]
  },
  {
   "cell_type": "code",
   "execution_count": 65,
   "metadata": {},
   "outputs": [
    {
     "data": {
      "text/html": [
       "<div>\n",
       "<style>\n",
       "    .dataframe thead tr:only-child th {\n",
       "        text-align: right;\n",
       "    }\n",
       "\n",
       "    .dataframe thead th {\n",
       "        text-align: left;\n",
       "    }\n",
       "\n",
       "    .dataframe tbody tr th {\n",
       "        vertical-align: top;\n",
       "    }\n",
       "</style>\n",
       "<table border=\"1\" class=\"dataframe\">\n",
       "  <thead>\n",
       "    <tr style=\"text-align: right;\">\n",
       "      <th></th>\n",
       "      <th>Name</th>\n",
       "      <th>Rating</th>\n",
       "      <th>Year</th>\n",
       "      <th>Votes</th>\n",
       "      <th>Gross</th>\n",
       "      <th>Summary</th>\n",
       "      <th>Genre_Action</th>\n",
       "      <th>Genre_Adventure</th>\n",
       "      <th>Genre_Animation</th>\n",
       "      <th>Genre_Biography</th>\n",
       "      <th>...</th>\n",
       "      <th>Genre_Horror</th>\n",
       "      <th>Genre_Music</th>\n",
       "      <th>Genre_Musical</th>\n",
       "      <th>Genre_Mystery</th>\n",
       "      <th>Genre_Romance</th>\n",
       "      <th>Genre_Sci-Fi</th>\n",
       "      <th>Genre_Sport</th>\n",
       "      <th>Genre_Thriller</th>\n",
       "      <th>Genre_War</th>\n",
       "      <th>Genre_Western</th>\n",
       "    </tr>\n",
       "  </thead>\n",
       "  <tbody>\n",
       "    <tr>\n",
       "      <th>0</th>\n",
       "      <td>The Flying Saucer</td>\n",
       "      <td>3.8</td>\n",
       "      <td>1950</td>\n",
       "      <td>301</td>\n",
       "      <td>NaN</td>\n",
       "      <td>Both the CIA and KGB investigate UFOs in Alask...</td>\n",
       "      <td>0</td>\n",
       "      <td>0</td>\n",
       "      <td>0</td>\n",
       "      <td>0</td>\n",
       "      <td>...</td>\n",
       "      <td>0</td>\n",
       "      <td>0</td>\n",
       "      <td>0</td>\n",
       "      <td>0</td>\n",
       "      <td>0</td>\n",
       "      <td>1</td>\n",
       "      <td>0</td>\n",
       "      <td>1</td>\n",
       "      <td>0</td>\n",
       "      <td>0</td>\n",
       "    </tr>\n",
       "    <tr>\n",
       "      <th>1</th>\n",
       "      <td>The File on Thelma Jordon</td>\n",
       "      <td>7.0</td>\n",
       "      <td>1950</td>\n",
       "      <td>1523</td>\n",
       "      <td>NaN</td>\n",
       "      <td>Assistant district attorney Cleve Marshall fal...</td>\n",
       "      <td>0</td>\n",
       "      <td>0</td>\n",
       "      <td>0</td>\n",
       "      <td>0</td>\n",
       "      <td>...</td>\n",
       "      <td>0</td>\n",
       "      <td>0</td>\n",
       "      <td>0</td>\n",
       "      <td>0</td>\n",
       "      <td>0</td>\n",
       "      <td>0</td>\n",
       "      <td>0</td>\n",
       "      <td>0</td>\n",
       "      <td>0</td>\n",
       "      <td>0</td>\n",
       "    </tr>\n",
       "    <tr>\n",
       "      <th>2</th>\n",
       "      <td>The Traveling Saleswoman</td>\n",
       "      <td>6.3</td>\n",
       "      <td>1950</td>\n",
       "      <td>25</td>\n",
       "      <td>NaN</td>\n",
       "      <td>In this western comedy, the King Soap Company ...</td>\n",
       "      <td>1</td>\n",
       "      <td>0</td>\n",
       "      <td>0</td>\n",
       "      <td>0</td>\n",
       "      <td>...</td>\n",
       "      <td>0</td>\n",
       "      <td>1</td>\n",
       "      <td>0</td>\n",
       "      <td>0</td>\n",
       "      <td>0</td>\n",
       "      <td>0</td>\n",
       "      <td>0</td>\n",
       "      <td>0</td>\n",
       "      <td>0</td>\n",
       "      <td>0</td>\n",
       "    </tr>\n",
       "    <tr>\n",
       "      <th>3</th>\n",
       "      <td>Davy Crockett, Indian Scout</td>\n",
       "      <td>5.5</td>\n",
       "      <td>1950</td>\n",
       "      <td>191</td>\n",
       "      <td>NaN</td>\n",
       "      <td>Davy Crockett (not the famous Alamo hero, but ...</td>\n",
       "      <td>0</td>\n",
       "      <td>1</td>\n",
       "      <td>0</td>\n",
       "      <td>0</td>\n",
       "      <td>...</td>\n",
       "      <td>0</td>\n",
       "      <td>0</td>\n",
       "      <td>0</td>\n",
       "      <td>0</td>\n",
       "      <td>0</td>\n",
       "      <td>0</td>\n",
       "      <td>0</td>\n",
       "      <td>0</td>\n",
       "      <td>0</td>\n",
       "      <td>1</td>\n",
       "    </tr>\n",
       "    <tr>\n",
       "      <th>4</th>\n",
       "      <td>Cry Murder</td>\n",
       "      <td>5.8</td>\n",
       "      <td>1950</td>\n",
       "      <td>6</td>\n",
       "      <td>NaN</td>\n",
       "      <td>A young actress has retired from films to marr...</td>\n",
       "      <td>0</td>\n",
       "      <td>0</td>\n",
       "      <td>0</td>\n",
       "      <td>0</td>\n",
       "      <td>...</td>\n",
       "      <td>0</td>\n",
       "      <td>0</td>\n",
       "      <td>0</td>\n",
       "      <td>1</td>\n",
       "      <td>0</td>\n",
       "      <td>0</td>\n",
       "      <td>0</td>\n",
       "      <td>0</td>\n",
       "      <td>0</td>\n",
       "      <td>0</td>\n",
       "    </tr>\n",
       "  </tbody>\n",
       "</table>\n",
       "<p>5 rows × 27 columns</p>\n",
       "</div>"
      ],
      "text/plain": [
       "                          Name  Rating  Year Votes  Gross  \\\n",
       "0            The Flying Saucer     3.8  1950   301    NaN   \n",
       "1    The File on Thelma Jordon     7.0  1950  1523    NaN   \n",
       "2     The Traveling Saleswoman     6.3  1950    25    NaN   \n",
       "3  Davy Crockett, Indian Scout     5.5  1950   191    NaN   \n",
       "4                   Cry Murder     5.8  1950     6    NaN   \n",
       "\n",
       "                                             Summary Genre_Action  \\\n",
       "0  Both the CIA and KGB investigate UFOs in Alask...            0   \n",
       "1  Assistant district attorney Cleve Marshall fal...            0   \n",
       "2  In this western comedy, the King Soap Company ...            1   \n",
       "3  Davy Crockett (not the famous Alamo hero, but ...            0   \n",
       "4  A young actress has retired from films to marr...            0   \n",
       "\n",
       "  Genre_Adventure Genre_Animation Genre_Biography      ...      Genre_Horror  \\\n",
       "0               0               0               0      ...                 0   \n",
       "1               0               0               0      ...                 0   \n",
       "2               0               0               0      ...                 0   \n",
       "3               1               0               0      ...                 0   \n",
       "4               0               0               0      ...                 0   \n",
       "\n",
       "  Genre_Music Genre_Musical Genre_Mystery Genre_Romance Genre_Sci-Fi  \\\n",
       "0           0             0             0             0            1   \n",
       "1           0             0             0             0            0   \n",
       "2           1             0             0             0            0   \n",
       "3           0             0             0             0            0   \n",
       "4           0             0             1             0            0   \n",
       "\n",
       "  Genre_Sport Genre_Thriller Genre_War Genre_Western  \n",
       "0           0              1         0             0  \n",
       "1           0              0         0             0  \n",
       "2           0              0         0             0  \n",
       "3           0              0         0             1  \n",
       "4           0              0         0             0  \n",
       "\n",
       "[5 rows x 27 columns]"
      ]
     },
     "execution_count": 65,
     "metadata": {},
     "output_type": "execute_result"
    }
   ],
   "source": [
    "movie_df.head()"
   ]
  },
  {
   "cell_type": "code",
   "execution_count": 66,
   "metadata": {
    "collapsed": true
   },
   "outputs": [],
   "source": [
    "# imports\n",
    "import matplotlib.pyplot as plt\n",
    "import matplotlib\n",
    "from collections import deque"
   ]
  },
  {
   "cell_type": "markdown",
   "metadata": {},
   "source": [
    "### Definition of movie score\n",
    "It is biased to merely investigate into either movie rating or movie number of votes for finding the popular or successful movies. Therefore, we introduce the formula from [IMDb](https://help.imdb.com/article/imdb/featured-content/why-doesn-t-a-title-with-the-average-user-vote-of-9-4-appear-in-your-top-250-movies-or-tv-list/GTU67Q5QQ8W53RJT?pf_rd_m=A2FGELUUNOQJNL&pf_rd_p=e31d89dd-322d-4646-8962-327b42fe94b1&pf_rd_r=T4PZFWW3YAJD79YH14HS&pf_rd_s=center-1&pf_rd_t=15506&pf_rd_i=top&ref_=cons_chttp_learnmore#) to get the combined values. \n",
    "\n",
    "The formula for calculating gives a true Bayesian estimate: weighted rating (WR) = (v ÷ (v+m)) × R + (m ÷ (v+m)) × C Where:\n",
    " - R = rating for the movie = (Rating)\n",
    " - v = number of votes for the movie = (votes)\n",
    " - m = a good number of votes to rely on the rating based on votes (we pick m as the first quantile for number of votes)\n",
    " - C = the mean of all movies\n",
    "\n",
    "The following true_bayesian_estimate_1 returns the scores for each row in the dataframe(the movie), and  true_bayesian_estimate the scores for each genre movie average score in the dataframe. "
   ]
  },
  {
   "cell_type": "code",
   "execution_count": 8,
   "metadata": {
    "collapsed": true
   },
   "outputs": [],
   "source": [
    "def get_values(df):\n",
    "    v = []\n",
    "    R = []\n",
    "    for genre in df.columns[6:-1]:\n",
    "        v1 = sum(df[df[genre] == 1]['Votes'])\n",
    "        r1 = np.mean(df[df[genre] == 1]['Rating'])\n",
    "        R.append(r1)\n",
    "        v.append(v1)\n",
    "    m = np.mean(df['Votes'])\n",
    "    C = np.mean(df['Rating'])\n",
    "    return np.asarray(R), np.asarray(v), m, C\n",
    "def true_bayesian_estimate(df):\n",
    "    '''\n",
    "        df: movie data frame\n",
    "        return: the scores for each genre movie average score in the dataframe(the movie)\n",
    "    '''\n",
    "    R, v, m, C = get_values(df)\n",
    "    return (v/(v+m))*R + (m/(v+m))*C\n",
    "def true_bayesian_estimate_1(df):\n",
    "    '''\n",
    "        df: movie data frame\n",
    "        return: the scores for each row in the dataframe(the movie)\n",
    "    '''\n",
    "    R = df[\"Rating\"]\n",
    "    v = df[\"Votes\"]\n",
    "    m = v.quantile([.25, .5, .75])[0.25] #the first quantile for number of votes\n",
    "    C = (R).mean()\n",
    "    return (v/(v+m))*R + (m/(v+m))*C"
   ]
  },
  {
   "cell_type": "markdown",
   "metadata": {},
   "source": [
    "### Add movie scores column\n",
    "We call our movie scores as \"Score\" in the dataframe"
   ]
  },
  {
   "cell_type": "code",
   "execution_count": 9,
   "metadata": {
    "collapsed": true
   },
   "outputs": [],
   "source": [
    "ps = true_bayesian_estimate_1(movie_df)\n",
    "ps = np.nan_to_num(ps)\n",
    "movie_df = movie_df.assign(Popularity = pd.Series(ps).values.astype(\"float\"))"
   ]
  },
  {
   "cell_type": "markdown",
   "metadata": {},
   "source": [
    "### split the data into years \n",
    "For another data prepartion, We decide to investigate the movie market changes for each 10 years from 1950 to 2010. dfs is a list of dataframe for each 10 years. "
   ]
  },
  {
   "cell_type": "code",
   "execution_count": 10,
   "metadata": {
    "collapsed": true
   },
   "outputs": [],
   "source": [
    "dfs = []\n",
    "years = list(range(1950, 2000, 10))\n",
    "for start in range(1950, 2010, 10):\n",
    "    dfs.append(movie_df[np.logical_and(movie_df['Year'] >= start, movie_df['Year'] < (start + 10))])"
   ]
  },
  {
   "cell_type": "markdown",
   "metadata": {},
   "source": [
    "### is the rating normal distributed?"
   ]
  },
  {
   "cell_type": "code",
   "execution_count": 70,
   "metadata": {},
   "outputs": [
    {
     "data": {
      "image/png": "[encoded data removed]",
      "text/plain": [
       "<matplotlib.figure.Figure at 0x11a402128>"
      ]
     },
     "metadata": {},
     "output_type": "display_data"
    }
   ],
   "source": [
    "from scipy.stats import norm\n",
    "\n",
    "r = movie_df['Rating']\n",
    "r.plot(kind='hist',histtype = 'bar', align = \"left\",rwidth = 0.5,bins=[i*0.5 for i in range(23)], normed = True)\n",
    "x = np.linspace(r.min(), r.max(), r.shape[0])\n",
    "rv = norm(loc = np.mean(r), scale = np.std(r))\n",
    "plt.plot(x, rv.pdf(x), 'r-', lw=5, alpha=0.6, label='norm pdf')\n",
    "plt.show()\n"
   ]
  },
  {
   "cell_type": "markdown",
   "metadata": {},
   "source": [
    "From the dirstribution of the ratings. We found the ratings centered around 6"
   ]
  },
  {
   "cell_type": "code",
   "execution_count": 71,
   "metadata": {},
   "outputs": [
    {
     "data": {
      "image/png": "[encoded data removed]",
      "text/plain": [
       "<matplotlib.figure.Figure at 0x119c27a58>"
      ]
     },
     "metadata": {},
     "output_type": "display_data"
    }
   ],
   "source": [
    "# %matplotlib inline\n",
    "# i = 0\n",
    "# fig=plt.figure(figsize=(18, 16), dpi= 80, facecolor='w', edgecolor='k')\n",
    "# for col in dfs:\n",
    "#     ax = plt.subplot2grid((3,2), (i//2, i%2))\n",
    "#     i = i + 1\n",
    "#     r = col['Rating']\n",
    "#     ax.hist(r, histtype = 'bar', align = \"left\",rwidth = 0.5,bins=[i*0.5 for i in range(23)], normed=True)\n",
    "#     plt.xlabel(\"Rating\")\n",
    "#     plt.ylabel(\"Density\")\n",
    "#     plt.title(\"IMDb ratings of \"+ str(1940+i*10)+\"s\")\n",
    "#     x = np.linspace(r.min(), r.max(), r.shape[0])\n",
    "\n",
    "#     rv = norm(loc = np.mean(r), scale = np.std(r))\n",
    "#     ax.plot(x, rv.pdf(x), 'r-', lw=5, alpha=0.6, label='norm pdf')\n",
    "# plt.show()\n",
    "import scipy.stats as st\n",
    "\n",
    "data = []\n",
    "all_years = [str(start)+\"s\"  for start in range(1950, 2010, 10)]\n",
    "for i in range(len(dfs)):\n",
    "    data.append(list(dfs[i]['Score']))\n",
    "plt.boxplot(data, patch_artist=True)\n",
    "plt.xticks(range(1,len(all_years)+1), all_years)\n",
    "\n",
    "plt.show()"
   ]
  },
  {
   "cell_type": "markdown",
   "metadata": {},
   "source": [
    "The boxplot over six decases shows that there are some variations in scores over years. "
   ]
  },
  {
   "cell_type": "markdown",
   "metadata": {},
   "source": [
    "## How score varies across genres\n",
    "We first explore the relationship between genres and score, using bar graph.\n",
    "The top four categories are ['Biography', 'History', 'Film-Noir', 'Animation']\n"
   ]
  },
  {
   "cell_type": "code",
   "execution_count": 73,
   "metadata": {
    "scrolled": false
   },
   "outputs": [
    {
     "data": {
      "image/png": "[encoded data removed]",
      "text/plain": [
       "<matplotlib.figure.Figure at 0x118589438>"
      ]
     },
     "metadata": {},
     "output_type": "display_data"
    },
    {
     "data": {
      "text/plain": [
       "['Biography', 'History', 'Film-Noir', 'Animation']"
      ]
     },
     "execution_count": 73,
     "metadata": {},
     "output_type": "execute_result"
    }
   ],
   "source": [
    "y = true_bayesian_estimate(movie_df)\n",
    "font = {'family' : 'Arial',\n",
    "        'size'   : 12}\n",
    "matplotlib.rc('font', **font)\n",
    "labels = list(movie_df.columns[6:-1])\n",
    "labels = [x.replace('Genre_','') for x in labels]\n",
    "y = np.nan_to_num(y)\n",
    "plt.barh(labels, y)\n",
    "plt.xlabel('IMDb Score')\n",
    "plt.title(\"IMDb score of each genre\")\n",
    "plt.show()\n",
    "plt.savefig('scorevsgenre.png')\n",
    "indx = (-y).argsort()[:4]\n",
    "top_genres = [labels[i] for i in indx ]\n",
    "top_genres"
   ]
  },
  {
   "cell_type": "markdown",
   "metadata": {},
   "source": [
    "### Hypothesis testing\n",
    " $H_0: \\mu_1 = \\mu_2$ There is no difference in scores between each one of the top genres and the other genres  \n",
    " $H_a: \\mu_1 > \\mu_2$ There is a difference in scores between each one of the top genres and the other genres\n",
    " \n",
    "Note: $\\mu_1$ is the score under each genre in the top genres, and $\\mu_2$ is the scores of other genres\n",
    "\n",
    "We got our p-vale for each group less than 0.05. With these significantly small p-values, we conclude that there is a difference in score between these top generes and the other genres. "
   ]
  },
  {
   "cell_type": "code",
   "execution_count": 74,
   "metadata": {
    "scrolled": true
   },
   "outputs": [
    {
     "name": "stdout",
     "output_type": "stream",
     "text": [
      "Biography p-value: 1.21133752594e-100\n",
      "History p-value: 9.99262359402e-55\n",
      "Film-Noir p-value: 4.30138888429e-46\n",
      "Animation p-value: 4.35855589059e-33\n"
     ]
    }
   ],
   "source": [
    "for i in range(len(top_genres)):\n",
    "    a = movie_df[movie_df[''.join(['Genre_' ,top_genres[i]])] == 1][\"Score\"]\n",
    "    b = movie_df[movie_df[''.join(['Genre_' ,top_genres[i]])] == 0][\"Score\"]\n",
    "    t2, p2 = st.ttest_ind(a,b)\n",
    "    print(top_genres[i] + \" p-value: \" + str(p2))\n"
   ]
  },
  {
   "cell_type": "markdown",
   "metadata": {},
   "source": [
    "# EDITED\n",
    "Since we have those assumptions we validated above, it is possible to get a clearer idea of top genres over the decades. We plotted a heatmap to view the average ratings of a genre in all decades.\n",
    "The horizontal axis is the movie genre, the vertical axis is the decades and lighter cells indicate higher average scores."
   ]
  },
  {
   "cell_type": "code",
   "execution_count": 36,
   "metadata": {
    "scrolled": false
   },
   "outputs": [
    {
     "data": {
      "image/png": "[encoded data removed]",
      "text/plain": [
       "<matplotlib.figure.Figure at 0x17cfb58ae80>"
      ]
     },
     "metadata": {},
     "output_type": "display_data"
    }
   ],
   "source": [
    "import seaborn as sns; sns.set()\n",
    "fig=plt.figure(figsize=(8, 8), dpi= 80, facecolor='w', edgecolor='k')\n",
    "\n",
    "all_years = pd.DataFrame(columns = [ col.split(\"_\")[1] for col in movie_df.columns[6:-1]])\n",
    "for i in range(6):\n",
    "    df = dfs[i]\n",
    "    y = true_bayesian_estimate(df)\n",
    "    y = np.nan_to_num(y)\n",
    "    all_years.loc[i] = y\n",
    "all_years.index = [str(start)+\"s\"  for start in range(1950, 2010, 10)]\n",
    "ax = sns.heatmap(all_years)"
   ]
  },
  {
   "cell_type": "markdown",
   "metadata": {},
   "source": [
    "From the plot we can observe that one of the column "
   ]
  },
  {
   "cell_type": "code",
   "execution_count": 44,
   "metadata": {},
   "outputs": [
    {
     "data": {
      "image/png": "[encoded data removed]",
      "text/plain": [
       "<matplotlib.figure.Figure at 0x16acea1f400>"
      ]
     },
     "metadata": {},
     "output_type": "display_data"
    }
   ],
   "source": [
    "fig=plt.figure(figsize=(10, 10), dpi= 80, facecolor='w', edgecolor='k')\n",
    "\n",
    "all_years_without_fn = all_years.drop([\"Film-Noir\"], axis = 1)\n",
    "ax = sns.heatmap(all_years_without_fn)"
   ]
  },
  {
   "cell_type": "code",
   "execution_count": 18,
   "metadata": {
    "collapsed": true
   },
   "outputs": [],
   "source": [
    "# film - noir"
   ]
  },
  {
   "cell_type": "markdown",
   "metadata": {},
   "source": [
    "## How year affects the market (ratings,  gross, popularity)\n",
    "Time Series\n",
    "\n",
    "## The average gross over years\n",
    "To find the trend of the gross over years, apply the sliding average on this time series data to smooth out short-term flucatuations and find the longer-term trend."
   ]
  },
  {
   "cell_type": "code",
   "execution_count": 47,
   "metadata": {
    "collapsed": true
   },
   "outputs": [],
   "source": [
    "\n",
    "class SlidingAverage:\n",
    "    def __init__(self,k):\n",
    "        \"\"\" Initializes a sliding average calculator which keeps track of the average of the last k seen elements. \n",
    "        \n",
    "        Args: \n",
    "            k (int): the number of elements to average (the half-width of the sliding average window)\n",
    "        \"\"\"\n",
    "        self.k = k\n",
    "        self.s = deque(maxlen = 2*k + 1)\n",
    "        self.s.extend([None] * k)\n",
    "        self.sum = 0.0\n",
    "        self.num = 0.0\n",
    "        \n",
    "    def update(self,x):\n",
    "        \"\"\" Computes the sliding average after having seen element x \n",
    "        \n",
    "        Args:\n",
    "            x (float): the next element in the stream to view\n",
    "            \n",
    "        Returns: \n",
    "            (float): the new sliding average after having seen element x, if it can be calculated\n",
    "        \"\"\"\n",
    "        self.s.append(x)\n",
    "        if x is not None:\n",
    "            self.sum = self.sum + x\n",
    "            self.num = self.num + 1\n",
    "        if len(self.s) == 2*(self.k) + 1:\n",
    "            slidingavg = self.sum/(self.num)\n",
    "            if (not (self.s[0] is None)):\n",
    "                self.num = self.num - 1\n",
    "                self.sum = self.sum - self.s[0]\n",
    "\n",
    "            return slidingavg\n",
    "        return None\n",
    "    \n",
    "\n",
    "def compute_sliding_averages(s, k):\n",
    "    \"\"\" Computes the sliding averages for a given Pandas series using the SlidingAverage class. \n",
    "    \n",
    "    Args:\n",
    "        s (pd.Series): a Pandas series for which the sliding average needs to be calculated\n",
    "        k (int): the half-width of the sliding average window \n",
    "        \n",
    "    Returns:\n",
    "        (pd.Series): a Pandas series of the sliding averages\n",
    "    \n",
    "    \"\"\"\n",
    "    if k == 0:\n",
    "        return s\n",
    "    sa = SlidingAverage(k)\n",
    "    s1 = pd.Series()\n",
    "    snew = [val for val in map(sa.update, s) if val is not None]  \n",
    "    snew.extend([val for val in map(sa.update, [None]*k) if val is not None])\n",
    "    s1 = s1.append(pd.Series(snew))\n",
    "    return s1"
   ]
  },
  {
   "cell_type": "code",
   "execution_count": 48,
   "metadata": {
    "collapsed": true
   },
   "outputs": [],
   "source": [
    "subdf = movie_df.dropna()\n"
   ]
  },
  {
   "cell_type": "code",
   "execution_count": 56,
   "metadata": {},
   "outputs": [
    {
     "data": {
      "image/png": "[encoded data removed]",
      "text/plain": [
       "<matplotlib.figure.Figure at 0x16aceaccac8>"
      ]
     },
     "metadata": {},
     "output_type": "display_data"
    }
   ],
   "source": [
    "fig=plt.figure(figsize=(7, 7), dpi= 80, facecolor='w', edgecolor='k')\n",
    "\n",
    "pop_y = subdf.groupby(['Year'])['Popularity'].mean()\n",
    "pop_y_slide_average = compute_sliding_averages(pd.Series(pop_y),5)\n",
    "plt.plot(range(1950, 2010), pop_y_slide_average)\n",
    "plt.xlabel(\"Year\")\n",
    "plt.ylabel(\"Score\")\n",
    "plt.title(\"IMDb scores vs release year\")\n",
    "\n",
    "plt.show()"
   ]
  },
  {
   "cell_type": "code",
   "execution_count": 57,
   "metadata": {
    "scrolled": true
   },
   "outputs": [
    {
     "data": {
      "image/png": "[encoded data removed]",
      "text/plain": [
       "<matplotlib.figure.Figure at 0x16ad32ebe10>"
      ]
     },
     "metadata": {},
     "output_type": "display_data"
    }
   ],
   "source": [
    "\n",
    "fig=plt.figure(figsize=(7, 7), dpi= 80, facecolor='w', edgecolor='k')\n",
    "gross_y = subdf.groupby(['Year'])['Gross'].mean()\n",
    "gross_y_slide_average = compute_sliding_averages(pd.Series(gross_y),5)\n",
    "plt.plot(range(1950, 2010), gross_y_slide_average)\n",
    "plt.xlabel(\"Year\")\n",
    "plt.ylabel(\"Gross\")\n",
    "plt.title(\"Gross vs release year\")\n",
    "plt.show()"
   ]
  },
  {
   "cell_type": "markdown",
   "metadata": {},
   "source": [
    "#### df.columns"
   ]
  },
  {
   "cell_type": "code",
   "execution_count": 23,
   "metadata": {},
   "outputs": [
    {
     "data": {
      "image/png": "[encoded data removed]",
      "text/plain": [
       "<matplotlib.figure.Figure at 0x19a2f8aeeb8>"
      ]
     },
     "metadata": {},
     "output_type": "display_data"
    }
   ],
   "source": [
    "rating_y1 = movie_df.groupby(['Year'])['Rating'].mean()\n",
    "rating_y1_slide_average = compute_sliding_averages(pd.Series(rating_y1),5)\n",
    "plt.plot(range(1950, 2010), rating_y1_slide_average)\n",
    "plt.show()"
   ]
  },
  {
   "cell_type": "code",
   "execution_count": 58,
   "metadata": {
    "scrolled": false
   },
   "outputs": [
    {
     "data": {
      "image/png": "[encoded data removed]",
      "text/plain": [
       "<matplotlib.figure.Figure at 0x16acea995c0>"
      ]
     },
     "metadata": {},
     "output_type": "display_data"
    }
   ],
   "source": [
    "fig=plt.figure(figsize=(7, 7), dpi= 80, facecolor='w', edgecolor='k')\n",
    "rating_y1 = movie_df.groupby(['Year'])['Name'].count()\n",
    "plt.plot(range(1950, 2010),rating_y1)\n",
    "plt.xlabel(\"Year\")\n",
    "plt.ylabel(\"Movie count\")\n",
    "plt.title(\"Movie count vs release year\")\n",
    "plt.show()"
   ]
  },
  {
   "cell_type": "markdown",
   "metadata": {},
   "source": [
    "## Linear Regression\n",
    "### Gross \n",
    "Before we run linear regression on the Gross over Score, we first scatter plot and check there is any trend. Below, there might be a positive relationship. "
   ]
  },
  {
   "cell_type": "code",
   "execution_count": 78,
   "metadata": {
    "scrolled": false
   },
   "outputs": [
    {
     "data": {
      "image/png": "[encoded data removed]",
      "text/plain": [
       "<matplotlib.figure.Figure at 0x1a2c0102b0>"
      ]
     },
     "metadata": {},
     "output_type": "display_data"
    }
   ],
   "source": [
    "plt.scatter(movie_df[\"Gross\"].values.reshape(-1, 1), movie_df[\"Score\"])\n",
    "plt.xlabel(\"Gross\")\n",
    "plt.ylabel(\"Score\")\n",
    "plt.show()"
   ]
  },
  {
   "cell_type": "markdown",
   "metadata": {},
   "source": [
    "We will run the linear regression model using sklear with the model below:  \n",
    "$Score = \\beta_1*Gross + \\beta_0 + \\epsilon$  \n",
    "P-value for $\\beta_1$ is significantly small so we conclude that there is a positive linear relationship between score and gross."
   ]
  },
  {
   "cell_type": "code",
   "execution_count": 83,
   "metadata": {},
   "outputs": [
    {
     "name": "stdout",
     "output_type": "stream",
     "text": [
      "Residuals:\n",
      "Min      1Q  Median      3Q     Max\n",
      "-3.0953 -0.6628 -0.0754  0.5736  4.2231\n",
      "\n",
      "\n",
      "Coefficients:\n",
      "            Estimate  Std. Error   t value  p value\n",
      "_intercept  6.045928    0.013389  451.5471      0.0\n",
      "x1          0.005600    0.000227   24.6274      0.0\n",
      "---\n",
      "R-squared:  0.06209,    Adjusted R-squared:  0.06196\n",
      "F-statistic: 465.39 on 1 features\n"
     ]
    }
   ],
   "source": [
    "from regressors import stats\n",
    "from sklearn.linear_model import LinearRegression\n",
    "lm = LinearRegression(fit_intercept=True, normalize=False)  \n",
    "subdf = movie_df.dropna()\n",
    "X = np.asarray(subdf[\"Gross\"]).reshape(-1,1)\n",
    "y = np.asarray(subdf[\"Score\"])\n",
    "lm.fit(X, y)\n",
    "stats.summary(lm, X, y)"
   ]
  },
  {
   "cell_type": "markdown",
   "metadata": {},
   "source": [
    "Combine previous analysis, both genre, gross, and year relate to the score. Then, we run the linear regression on all these features:   \n",
    "$Score = \\beta_0 + \\beta_{1}  \\mathrm{Year} \n",
    "    + \\beta_{2}  \\mathrm{Action}   \n",
    "    + \\beta_{3}  \\mathrm{Adventure} +   \\mathrm{...} \n",
    "    + \\beta_{21}  \\mathrm{War} \n",
    "    + \\beta_{22}  \\mathrm{Gross}  + \\epsilon$"
   ]
  },
  {
   "cell_type": "code",
   "execution_count": 82,
   "metadata": {},
   "outputs": [
    {
     "name": "stdout",
     "output_type": "stream",
     "text": [
      "Residuals:\n",
      "Min      1Q  Median      3Q     Max\n",
      "-2.6031 -0.5914 -0.0613  0.5019  4.2098\n",
      "\n",
      "\n",
      "Coefficients:\n",
      "             Estimate  Std. Error    t value   p value\n",
      "_intercept -18.144598    1.763771   -10.2874  0.000000\n",
      "x1          -0.012754    0.000006 -2098.9536  0.000000\n",
      "x2          -0.385830    0.031452   -12.2674  0.000000\n",
      "x3          -0.038970    0.035256    -1.1053  0.269058\n",
      "x4           0.402649    0.064613     6.2317  0.000000\n",
      "x5           0.422220    0.054573     7.7368  0.000000\n",
      "x6          -0.199091    0.024955    -7.9781  0.000000\n",
      "x7           0.084367    0.028883     2.9210  0.003500\n",
      "x8           0.494219    0.025017    19.7551  0.000000\n",
      "x9          -0.345096    0.043732    -7.8911  0.000000\n",
      "x10         -0.069373    0.043901    -1.5802  0.114102\n",
      "x11          0.645667    0.293706     2.1983  0.027957\n",
      "x12          0.203504    0.072992     2.7880  0.005317\n",
      "x13         -0.341172    0.041343    -8.2522  0.000000\n",
      "x14         -0.100950    0.057627    -1.7518  0.079851\n",
      "x15          0.046109    0.077282     0.5966  0.550769\n",
      "x16          0.052034    0.042444     1.2259  0.220261\n",
      "x17         -0.026850    0.027473    -0.9773  0.328441\n",
      "x18         -0.059685    0.048035    -1.2425  0.214084\n",
      "x19         -0.065856    0.064158    -1.0265  0.304706\n",
      "x20         -0.041825    0.033628    -1.2438  0.213626\n",
      "x21          0.165668    0.077978     2.1245  0.033659\n",
      "x22          0.007352    0.000232    31.6499  0.000000\n",
      "---\n",
      "R-squared:  0.24972,    Adjusted R-squared:  0.24736\n",
      "F-statistic: 106.04 on 22 features\n"
     ]
    },
    {
     "name": "stderr",
     "output_type": "stream",
     "text": [
      "/Users/zhaowanhe/anaconda3/lib/python3.6/site-packages/ipykernel_launcher.py:4: SettingWithCopyWarning: \n",
      "A value is trying to be set on a copy of a slice from a DataFrame.\n",
      "Try using .loc[row_indexer,col_indexer] = value instead\n",
      "\n",
      "See the caveats in the documentation: http://pandas.pydata.org/pandas-docs/stable/indexing.html#indexing-view-versus-copy\n",
      "  after removing the cwd from sys.path.\n"
     ]
    }
   ],
   "source": [
    "lm = LinearRegression(fit_intercept=True, normalize=False)  \n",
    "generes = subdf.columns[5:]\n",
    "subdf[\"Year\"] = subdf[\"Year\"] - 1940\n",
    "X1 = np.asarray(subdf.iloc[:,[2]+list(range(6,subdf.shape[1] - 2))+ [4]], dtype='float')\n",
    "y1 = np.asarray(subdf[\"Score\"], dtype='float')\n",
    "lm.fit(X1, y1)\n",
    "stats.summary(lm, X1, y1)"
   ]
  },
  {
   "cell_type": "code",
   "execution_count": 84,
   "metadata": {},
   "outputs": [
    {
     "data": {
      "text/html": [
       "<div>\n",
       "<style>\n",
       "    .dataframe thead tr:only-child th {\n",
       "        text-align: right;\n",
       "    }\n",
       "\n",
       "    .dataframe thead th {\n",
       "        text-align: left;\n",
       "    }\n",
       "\n",
       "    .dataframe tbody tr th {\n",
       "        vertical-align: top;\n",
       "    }\n",
       "</style>\n",
       "<table border=\"1\" class=\"dataframe\">\n",
       "  <thead>\n",
       "    <tr style=\"text-align: right;\">\n",
       "      <th></th>\n",
       "      <th>beta</th>\n",
       "      <th>p-value</th>\n",
       "      <th>variable</th>\n",
       "    </tr>\n",
       "  </thead>\n",
       "  <tbody>\n",
       "    <tr>\n",
       "      <th>0</th>\n",
       "      <td>-0.012754</td>\n",
       "      <td>0.000000e+00</td>\n",
       "      <td>Year</td>\n",
       "    </tr>\n",
       "    <tr>\n",
       "      <th>1</th>\n",
       "      <td>-0.385830</td>\n",
       "      <td>0.000000e+00</td>\n",
       "      <td>Action</td>\n",
       "    </tr>\n",
       "    <tr>\n",
       "      <th>3</th>\n",
       "      <td>0.402649</td>\n",
       "      <td>5.005145e-10</td>\n",
       "      <td>Animation</td>\n",
       "    </tr>\n",
       "    <tr>\n",
       "      <th>4</th>\n",
       "      <td>0.422220</td>\n",
       "      <td>1.110223e-14</td>\n",
       "      <td>Biography</td>\n",
       "    </tr>\n",
       "    <tr>\n",
       "      <th>5</th>\n",
       "      <td>-0.199091</td>\n",
       "      <td>6.661338e-16</td>\n",
       "      <td>Comedy</td>\n",
       "    </tr>\n",
       "    <tr>\n",
       "      <th>6</th>\n",
       "      <td>0.084367</td>\n",
       "      <td>3.433299e-03</td>\n",
       "      <td>Crime</td>\n",
       "    </tr>\n",
       "    <tr>\n",
       "      <th>7</th>\n",
       "      <td>0.494219</td>\n",
       "      <td>0.000000e+00</td>\n",
       "      <td>Drama</td>\n",
       "    </tr>\n",
       "    <tr>\n",
       "      <th>8</th>\n",
       "      <td>-0.345096</td>\n",
       "      <td>3.108624e-15</td>\n",
       "      <td>Family</td>\n",
       "    </tr>\n",
       "    <tr>\n",
       "      <th>10</th>\n",
       "      <td>0.645667</td>\n",
       "      <td>2.887211e-02</td>\n",
       "      <td>Film-Noir</td>\n",
       "    </tr>\n",
       "    <tr>\n",
       "      <th>11</th>\n",
       "      <td>0.203504</td>\n",
       "      <td>5.309167e-03</td>\n",
       "      <td>History</td>\n",
       "    </tr>\n",
       "    <tr>\n",
       "      <th>12</th>\n",
       "      <td>-0.341172</td>\n",
       "      <td>0.000000e+00</td>\n",
       "      <td>Horror</td>\n",
       "    </tr>\n",
       "    <tr>\n",
       "      <th>20</th>\n",
       "      <td>0.165668</td>\n",
       "      <td>3.394111e-02</td>\n",
       "      <td>War</td>\n",
       "    </tr>\n",
       "    <tr>\n",
       "      <th>21</th>\n",
       "      <td>0.007352</td>\n",
       "      <td>0.000000e+00</td>\n",
       "      <td>Gross</td>\n",
       "    </tr>\n",
       "  </tbody>\n",
       "</table>\n",
       "</div>"
      ],
      "text/plain": [
       "        beta       p-value   variable\n",
       "0  -0.012754  0.000000e+00       Year\n",
       "1  -0.385830  0.000000e+00     Action\n",
       "3   0.402649  5.005145e-10  Animation\n",
       "4   0.422220  1.110223e-14  Biography\n",
       "5  -0.199091  6.661338e-16     Comedy\n",
       "6   0.084367  3.433299e-03      Crime\n",
       "7   0.494219  0.000000e+00      Drama\n",
       "8  -0.345096  3.108624e-15     Family\n",
       "10  0.645667  2.887211e-02  Film-Noir\n",
       "11  0.203504  5.309167e-03    History\n",
       "12 -0.341172  0.000000e+00     Horror\n",
       "20  0.165668  3.394111e-02        War\n",
       "21  0.007352  0.000000e+00      Gross"
      ]
     },
     "execution_count": 84,
     "metadata": {},
     "output_type": "execute_result"
    }
   ],
   "source": [
    "variable_names = [subdf.columns[2]]+ list(subdf.columns[6:subdf.shape[1] - 2]) + [\"Gross\"]\n",
    "zipped = list(zip(variable_names, coefs, pvals[1:]))\n",
    "important_factors = [ (name, coef, pval) for (name, coef, pval) in zipped ]\n",
    "variable_names = [\"Year\"]+list(map(lambda x: x.split(\"_\")[1], variable_names[1:-1]))+[\"Gross\"]\n",
    "ddd = pd.DataFrame({'variable': variable_names,\n",
    "     'beta': coefs,\n",
    "     'p-value': pvals[1:]\n",
    "    })\n",
    "# important_factors\n",
    "ddd[ddd[\"p-value\"]<=0.05]"
   ]
  },
  {
   "cell_type": "markdown",
   "metadata": {},
   "source": [
    "The above cell pulls out all the features that are significant (p-value < 0.05). We observe that with same year and gross, people rate action, family, horror lower, but Animation, Biography, Drama, Film-Noir higher. "
   ]
  },
  {
   "cell_type": "markdown",
   "metadata": {},
   "source": [
    "## Does the movie summary signify the movie quality "
   ]
  },
  {
   "cell_type": "code",
   "execution_count": 94,
   "metadata": {
    "collapsed": true
   },
   "outputs": [],
   "source": [
    "# extraodinary films\n",
    "import nltk, re\n",
    "from nltk.corpus import movie_reviews\n",
    "from collections import Counter\n",
    "from nltk.tokenize import word_tokenize\n",
    "import random\n",
    "\n",
    "def helper(x):\n",
    "    if x < 4:\n",
    "        return \"poorly-rated film\"\n",
    "    if x < 7:\n",
    "        return np.nan\n",
    "    return \"highly-rated\"\n",
    "\n",
    "ind = movie_df['Popularity'].apply(helper)\n",
    "df_text = movie_df\n",
    "df_text['ind'] = ind.values\n",
    "df_text = df_text.drop(\"Gross\", axis = 1)\n",
    "df_text = df_text.dropna()\n",
    "stratified = df_text.groupby(\"ind\")\n",
    "res = []\n",
    "def to_list(w):\n",
    "    w = re.sub(r'[^\\w\\s]','',w)\n",
    "    return w.lower().split()\n",
    "documents = list(zip(df_text.Summary.apply(to_list), df_text.ind))\n",
    "random.shuffle(documents)\n",
    "all_words = list(filter(lambda x: len(x) >1, (re.sub(r'[^\\w\\s]','',\" \".join(df_text[\"Summary\"])).lower()).split()))\n",
    "all_words.remove(\"ii\")\n",
    "all_words = nltk.FreqDist(all_words)\n",
    "word_features = list(all_words.most_common(3000))\n",
    "word_features = [w for (w, c) in word_features]\n",
    "def find_features(document):\n",
    "    words = set(document)\n",
    "    features = {}\n",
    "    for w in word_features:\n",
    "        features[w] = (w in words)\n",
    "    return features\n",
    "featuresets = [(find_features(rev), category) for (rev, category) in documents]\n",
    "training_set = featuresets[:20000]\n",
    "classifier = nltk.NaiveBayesClassifier.train(training_set)"
   ]
  },
  {
   "cell_type": "code",
   "execution_count": 87,
   "metadata": {
    "scrolled": true
   },
   "outputs": [
    {
     "name": "stdout",
     "output_type": "stream",
     "text": [
      "Most Informative Features\n",
      "                      ii = True              pos : neg    =     18.9 : 1.0\n",
      "                 british = True              pos : neg    =     15.7 : 1.0\n",
      "                 weekend = True              neg : pos    =     14.7 : 1.0\n",
      "                    hell = True              neg : pos    =     13.8 : 1.0\n",
      "                  crazed = True              neg : pos    =     11.9 : 1.0\n",
      "                 zombies = True              neg : pos    =     11.7 : 1.0\n",
      "                   beast = True              neg : pos    =     10.9 : 1.0\n",
      "                   widow = True              pos : neg    =     10.5 : 1.0\n",
      "                 english = True              pos : neg    =     10.5 : 1.0\n",
      "              determined = True              pos : neg    =     10.1 : 1.0\n",
      "Classifier accuracy percent: 0\n"
     ]
    }
   ],
   "source": [
    "classifier.show_most_informative_features(10)\n",
    "testing_set = featuresets[20000:25000]\n",
    "print(\"Classifier accuracy percent:\",(nltk.classify.accuracy(classifier, testing_set))*100)"
   ]
  }
 ],
 "metadata": {
  "kernelspec": {
   "display_name": "Python 3",
   "language": "python",
   "name": "python3"
  },
  "language_info": {
   "codemirror_mode": {
    "name": "ipython",
    "version": 3
   },
   "file_extension": ".py",
   "mimetype": "text/x-python",
   "name": "python",
   "nbconvert_exporter": "python",
   "pygments_lexer": "ipython3",
   "version": "3.6.3"
  }
 },
 "nbformat": 4,
 "nbformat_minor": 2
}
