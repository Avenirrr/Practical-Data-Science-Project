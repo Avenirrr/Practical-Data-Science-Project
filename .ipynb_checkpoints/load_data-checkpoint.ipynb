{
 "cells": [
  {
   "cell_type": "code",
   "execution_count": 3,
   "metadata": {},
   "outputs": [
    {
     "data": {
      "text/plain": [
       "29940"
      ]
     },
     "execution_count": 3,
     "metadata": {},
     "output_type": "execute_result"
    }
   ],
   "source": [
    "import pandas as pd\n",
    "df1 = pd.read_pickle(\"movies1.pkl\")\n",
    "df2 = pd.read_pickle(\"movies2.pkl\")\n",
    "df3 = pd.read_pickle(\"movies3.pkl\")\n",
    "df = pd.concat([df1,df2, df3]).drop_duplicates().reset_index(drop=True)\n",
    "len(df)"
   ]
  },
  {
   "cell_type": "code",
   "execution_count": null,
   "metadata": {},
   "outputs": [],
   "source": []
  },
  {
   "cell_type": "code",
   "execution_count": 20,
   "metadata": {},
   "outputs": [
    {
     "name": "stdout",
     "output_type": "stream",
     "text": [
      "28372\n"
     ]
    }
   ],
   "source": [
    "#Preprocess\n",
    "df_1 = df[df[df.columns[5:]].sum(axis = 1) != 0]\n",
    "df_1 = df_1[df_1['Year'] != 2016]\n",
    "print(len(df_1))"
   ]
  },
  {
   "cell_type": "code",
   "execution_count": 21,
   "metadata": {},
   "outputs": [
    {
     "data": {
      "image/png": "[encoded data removed]",
      "text/plain": [
       "<matplotlib.figure.Figure at 0x10a350da0>"
      ]
     },
     "metadata": {},
     "output_type": "display_data"
    }
   ],
   "source": [
    "import matplotlib.pyplot as plt\n",
    "r = df_1['Rating']\n",
    "r.plot(kind='hist',histtype = 'bar', align = \"left\",rwidth = 0.5,bins=[0,1, 2,3, 4, 5, 6, 7, 8,9,10,11])\n",
    "plt.show()"
   ]
  },
  {
   "cell_type": "markdown",
   "metadata": {},
   "source": [
    "Over 44971, From the dirstribution of the ratings. We found the ratings centered around 6"
   ]
  },
  {
   "cell_type": "code",
   "execution_count": 17,
   "metadata": {},
   "outputs": [
    {
     "data": {
      "text/html": [
       "<div>\n",
       "<style>\n",
       "    .dataframe thead tr:only-child th {\n",
       "        text-align: right;\n",
       "    }\n",
       "\n",
       "    .dataframe thead th {\n",
       "        text-align: left;\n",
       "    }\n",
       "\n",
       "    .dataframe tbody tr th {\n",
       "        vertical-align: top;\n",
       "    }\n",
       "</style>\n",
       "<table border=\"1\" class=\"dataframe\">\n",
       "  <thead>\n",
       "    <tr style=\"text-align: right;\">\n",
       "      <th></th>\n",
       "      <th>Name</th>\n",
       "      <th>Rating</th>\n",
       "      <th>Year</th>\n",
       "      <th>Votes</th>\n",
       "      <th>Gross</th>\n",
       "      <th>Genre_Action</th>\n",
       "      <th>Genre_Adventure</th>\n",
       "      <th>Genre_Animation</th>\n",
       "      <th>Genre_Biography</th>\n",
       "      <th>Genre_Comedy</th>\n",
       "      <th>...</th>\n",
       "      <th>Genre_Mystery</th>\n",
       "      <th>Genre_News</th>\n",
       "      <th>Genre_Reality-TV</th>\n",
       "      <th>Genre_Romance</th>\n",
       "      <th>Genre_Sci-Fi</th>\n",
       "      <th>Genre_Sport</th>\n",
       "      <th>Genre_Talk-Show</th>\n",
       "      <th>Genre_Thriller</th>\n",
       "      <th>Genre_War</th>\n",
       "      <th>Genre_Western</th>\n",
       "    </tr>\n",
       "  </thead>\n",
       "  <tbody>\n",
       "  </tbody>\n",
       "</table>\n",
       "<p>0 rows × 31 columns</p>\n",
       "</div>"
      ],
      "text/plain": [
       "Empty DataFrame\n",
       "Columns: [Name, Rating, Year, Votes, Gross, Genre_Action, Genre_Adventure, Genre_Animation, Genre_Biography, Genre_Comedy, Genre_Crime, Genre_Documentary, Genre_Drama, Genre_Family, Genre_Fantasy, Genre_Film-Noir, Genre_Game-Show, Genre_History, Genre_Horror, Genre_Music, Genre_Musical, Genre_Mystery, Genre_News, Genre_Reality-TV, Genre_Romance, Genre_Sci-Fi, Genre_Sport, Genre_Talk-Show, Genre_Thriller, Genre_War, Genre_Western]\n",
       "Index: []\n",
       "\n",
       "[0 rows x 31 columns]"
      ]
     },
     "execution_count": 17,
     "metadata": {},
     "output_type": "execute_result"
    }
   ],
   "source": [
    "import numpy as np\n",
    "r.describe()\n"
   ]
  },
  {
   "cell_type": "code",
   "execution_count": 23,
   "metadata": {},
   "outputs": [],
   "source": [
    "df_y1 = df_1[np.logical_and(df_1['Year'] >= 1950, df_1['Year'] < 1960)]\n",
    "df_y2 = df_1[np.logical_and(df_1['Year'] >= 1960, df_1['Year'] < 1970)]\n",
    "df_y3 = df_1[np.logical_and(df_1['Year'] >= 1970, df_1['Year'] < 1980)]\n",
    "df_y4 = df_1[np.logical_and(df_1['Year'] >= 1980, df_1['Year'] < 1990)]\n",
    "df_y5 = df_1[np.logical_and(df_1['Year'] >= 1990, df_1['Year'] < 2000)]\n",
    "df_y6 = df_1[df_1['Year'] >= 2000]"
   ]
  },
  {
   "cell_type": "code",
   "execution_count": 31,
   "metadata": {},
   "outputs": [
    {
     "data": {
      "image/png": "[encoded data removed]",
      "text/plain": [
       "<matplotlib.figure.Figure at 0x1a1ac4cef0>"
      ]
     },
     "metadata": {},
     "output_type": "display_data"
    }
   ],
   "source": [
    "from scipy.stats import norm\n",
    "df_y = [df_y1, df_y2, df_y3, df_y4, df_y5, df_y6]\n",
    "i = 0\n",
    "for col in df_y:\n",
    "    ax = plt.subplot2grid((3,2), (i//2, i%2))\n",
    "    i = i + 1\n",
    "    r = col['Rating']\n",
    "    ax.hist(r, histtype = 'bar', align = \"left\",rwidth = 0.5,bins=[0,0.5, 1,1.5, 2,2.5, 3, 3.5, 4, 4.5, 5, 5.5, 6, 6.5, 7, 7.5, 8,8.5, 9,9.5, 10,10.5, 11], normed=True)\n",
    "    \n",
    "    x = np.linspace(r.min(), r.max(), r.shape[0])\n",
    "\n",
    "    rv = norm(loc = np.mean(r), scale = np.std(r))\n",
    "    ax.plot(x, rv.pdf(x), 'r-', lw=5, alpha=0.6, label='norm pdf')\n",
    "plt.show()"
   ]
  },
  {
   "cell_type": "code",
   "execution_count": null,
   "metadata": {
    "collapsed": true
   },
   "outputs": [],
   "source": []
  },
  {
   "cell_type": "markdown",
   "metadata": {},
   "source": [
    "The formula for calculating the Top Rated 250 Titles gives a true Bayesian estimate:\n",
    "weighted rating (WR) = (v ÷ (v+m)) × R + (m ÷ (v+m)) × C\n",
    "Where:\n",
    " - R = average rating for across movie genres = (Rating)\n",
    " - v = number of votes for across movie genres = (votes)\n",
    " - m = a good number of votes to rely on the rating based on votes (m as the average number of votes)\n",
    " - C = the mean ratings of all movies (currently 7.0)"
   ]
  },
  {
   "cell_type": "code",
   "execution_count": 35,
   "metadata": {},
   "outputs": [],
   "source": [
    "def get_values(df):\n",
    "    v = []\n",
    "    R = []\n",
    "    for genre in df.columns[5:]:\n",
    "\n",
    "        v1 = sum(df[df[genre] == 1]['Votes'])\n",
    "        r1 = np.mean(df[df[genre] == 1]['Rating'])\n",
    "        R.append(r1)\n",
    "        v.append(v1)\n",
    "    m = np.mean(df['Votes'])\n",
    "    C = np.mean(df['Rating'])\n",
    "    return np.asarray(R), np.asarray(v), m, C\n",
    "def true_bayesian_estimate(df):\n",
    "    R, v, m, C = get_values(df)\n",
    "    return (v/(v+m))*R + (m/(v+m))*C"
   ]
  },
  {
   "cell_type": "code",
   "execution_count": 56,
   "metadata": {},
   "outputs": [
    {
     "data": {
      "image/png": "[encoded data removed]",
      "text/plain": [
       "<matplotlib.figure.Figure at 0x1a17103cc0>"
      ]
     },
     "metadata": {},
     "output_type": "display_data"
    }
   ],
   "source": [
    "i = 0\n",
    "for df in df_y:\n",
    "    ax = plt.subplot2grid((3,2), (i//2, i%2))\n",
    "    i = i + 1\n",
    "    y = true_bayesian_estimate(df)\n",
    "    y = np.nan_to_num(y)\n",
    "    x = df.columns[5:]\n",
    "    plt.bar(range(y.shape[0]), y)\n",
    "plt.show()"
   ]
  },
  {
   "cell_type": "markdown",
   "metadata": {},
   "source": [
    "From this exploration, we found several generes have rae corresponding values in other variables. We decide to remove those generes for later linear regression"
   ]
  },
  {
   "cell_type": "code",
   "execution_count": 57,
   "metadata": {},
   "outputs": [],
   "source": [
    "#remove genres\n",
    "generes = df_1.columns[5:]\n",
    "remove_genre = []\n",
    "for genre in generes:\n",
    "    if((df_1[genre] == 0).all()):\n",
    "        remove_genre.append(genre)\n",
    "df_11 = df_1.drop(remove_genre, axis = 1)"
   ]
  },
  {
   "cell_type": "markdown",
   "metadata": {},
   "source": [
    "# Gross as an indicator of popularity in movie market  \n",
    "## The average gross over years\n",
    "To find the trend of the Gross over years, apply the sliding average on this time series data to smooth out short-term flucatuations and find the longer-term trend."
   ]
  },
  {
   "cell_type": "markdown",
   "metadata": {},
   "source": []
  },
  {
   "cell_type": "code",
   "execution_count": null,
   "metadata": {},
   "outputs": [],
   "source": []
  },
  {
   "cell_type": "code",
   "execution_count": 58,
   "metadata": {},
   "outputs": [],
   "source": [
    "def parse_gross(s):    \n",
    "    try:\n",
    "        if (s[-1]==\"M\"):\n",
    "            return (float(s[1:-1]))\n",
    "    except:\n",
    "        return np.nan\n",
    "df_11[\"Gross\"] = df_11[\"Gross\"].apply(parse_gross)\n",
    "df_11[\"Votes\"] = pd.to_numeric(df_11[\"Votes\"])\n"
   ]
  },
  {
   "cell_type": "code",
   "execution_count": 70,
   "metadata": {},
   "outputs": [],
   "source": [
    "from collections import deque\n",
    "\n",
    "class SlidingAverage:\n",
    "    def __init__(self,k):\n",
    "        \"\"\" Initializes a sliding average calculator which keeps track of the average of the last k seen elements. \n",
    "        \n",
    "        Args: \n",
    "            k (int): the number of elements to average (the half-width of the sliding average window)\n",
    "        \"\"\"\n",
    "        self.k = k\n",
    "        self.s = deque(maxlen = 2*k + 1)\n",
    "        self.s.extend([None] * k)\n",
    "        self.sum = 0.0\n",
    "        self.num = 0.0\n",
    "        \n",
    "    def update(self,x):\n",
    "        \"\"\" Computes the sliding average after having seen element x \n",
    "        \n",
    "        Args:\n",
    "            x (float): the next element in the stream to view\n",
    "            \n",
    "        Returns: \n",
    "            (float): the new sliding average after having seen element x, if it can be calculated\n",
    "        \"\"\"\n",
    "        self.s.append(x)\n",
    "        if x is not None:\n",
    "            self.sum = self.sum + x\n",
    "            self.num = self.num + 1\n",
    "        if len(self.s) == 2*(self.k) + 1:\n",
    "            slidingavg = self.sum/(self.num)\n",
    "            if (not (self.s[0] is None)):\n",
    "                self.num = self.num - 1\n",
    "                self.sum = self.sum - self.s[0]\n",
    "\n",
    "            return slidingavg\n",
    "        return None\n",
    "    \n",
    "\n",
    "def compute_sliding_averages(s, k):\n",
    "    \"\"\" Computes the sliding averages for a given Pandas series using the SlidingAverage class. \n",
    "    \n",
    "    Args:\n",
    "        s (pd.Series): a Pandas series for which the sliding average needs to be calculated\n",
    "        k (int): the half-width of the sliding average window \n",
    "        \n",
    "    Returns:\n",
    "        (pd.Series): a Pandas series of the sliding averages\n",
    "    \n",
    "    \"\"\"\n",
    "    if k == 0:\n",
    "        return s\n",
    "    sa = SlidingAverage(k)\n",
    "    s1 = pd.Series()\n",
    "    snew = [val for val in map(sa.update, s) if val is not None]  \n",
    "    snew.extend([val for val in map(sa.update, [None]*k) if val is not None])\n",
    "    s1 = s1.append(pd.Series(snew))\n",
    "    return s1\n",
    "subdf = df_11.dropna()\n",
    "gross_y = subdf.groupby(['Year'])['Gross'].mean()\n",
    "gross_y_slide_average = compute_sliding_averages(pd.Series(gross_y),5)\n"
   ]
  },
  {
   "cell_type": "code",
   "execution_count": 73,
   "metadata": {},
   "outputs": [
    {
     "data": {
      "image/png": "[encoded data removed]",
      "text/plain": [
       "<matplotlib.figure.Figure at 0x1a16fd8668>"
      ]
     },
     "metadata": {},
     "output_type": "display_data"
    }
   ],
   "source": [
    "plt.plot(range(1950, 2010), gross_y_slide_average)\n",
    "plt.show()"
   ]
  },
  {
   "cell_type": "code",
   "execution_count": null,
   "metadata": {},
   "outputs": [],
   "source": []
  },
  {
   "cell_type": "code",
   "execution_count": null,
   "metadata": {
    "collapsed": true
   },
   "outputs": [],
   "source": []
  }
 ],
 "metadata": {
  "kernelspec": {
   "display_name": "Python 3",
   "language": "python",
   "name": "python3"
  },
  "language_info": {
   "codemirror_mode": {
    "name": "ipython",
    "version": 3
   },
   "file_extension": ".py",
   "mimetype": "text/x-python",
   "name": "python",
   "nbconvert_exporter": "python",
   "pygments_lexer": "ipython3",
   "version": "3.6.3"
  }
 },
 "nbformat": 4,
 "nbformat_minor": 2
}
