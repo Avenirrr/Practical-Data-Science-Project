{
 "cells": [
  {
   "cell_type": "code",
   "execution_count": 6,
   "metadata": {},
   "outputs": [
    {
     "data": {
      "text/plain": [
       "False"
      ]
     },
     "execution_count": 6,
     "metadata": {},
     "output_type": "execute_result"
    }
   ],
   "source": [
    "import pandas as pd\n",
    "\n",
    "df1 = pd.read_pickle(\"./data/movies.pkl\")\n",
    "df2 = pd.read_pickle(\"./data/movies2.pkl\")\n",
    "df3 = pd.read_pickle(\"./data/movies3.pkl\")\n",
    "df4 = pd.read_pickle(\"./data/movies4.pkl\")\n",
    "df5 = pd.read_pickle(\"./data/movies5.pkl\")\n",
    "df11 = pd.read_pickle(\"movies1.pkl\")\n"
   ]
  },
  {
   "cell_type": "code",
   "execution_count": 17,
   "metadata": {},
   "outputs": [
    {
     "data": {
      "text/plain": [
       "47361"
      ]
     },
     "execution_count": 17,
     "metadata": {},
     "output_type": "execute_result"
    }
   ],
   "source": [
    "df = pd.concat([df1,df2,df3,df4,df5]).drop_duplicates().reset_index(drop=True)\n",
    "len(df)"
   ]
  },
  {
   "cell_type": "code",
   "execution_count": 18,
   "metadata": {},
   "outputs": [
    {
     "data": {
      "text/plain": [
       "Index(['Name', 'Rating', 'Year', 'Genre_Action', 'Genre_Adventure',\n",
       "       'Genre_Animation', 'Genre_Biography', 'Genre_Comedy', 'Genre_Crime',\n",
       "       'Genre_Documentary', 'Genre_Drama', 'Genre_Family', 'Genre_Fantasy',\n",
       "       'Genre_Film-Noir', 'Genre_Game-Show', 'Genre_History', 'Genre_Horror',\n",
       "       'Genre_Music', 'Genre_Musical', 'Genre_Mystery', 'Genre_News',\n",
       "       'Genre_Reality-TV', 'Genre_Romance', 'Genre_Sci-Fi', 'Genre_Sport',\n",
       "       'Genre_Talk-Show', 'Genre_Thriller', 'Genre_War', 'Genre_Western'],\n",
       "      dtype='object')"
      ]
     },
     "execution_count": 18,
     "metadata": {},
     "output_type": "execute_result"
    }
   ],
   "source": [
    "df.columns"
   ]
  },
  {
   "cell_type": "code",
   "execution_count": 19,
   "metadata": {},
   "outputs": [
    {
     "name": "stdout",
     "output_type": "stream",
     "text": [
      "44971\n"
     ]
    },
    {
     "data": {
      "text/plain": [
       "False"
      ]
     },
     "execution_count": 19,
     "metadata": {},
     "output_type": "execute_result"
    }
   ],
   "source": [
    "#Preprocess\n",
    "df_1 = df[df[df.columns[4:]].sum(axis = 1) != 0]\n",
    "print(len(df_1))\n",
    "df_1.columns\n",
    "#check for NULL\n",
    "df_1.isnull().values.any()\n"
   ]
  },
  {
   "cell_type": "code",
   "execution_count": 20,
   "metadata": {},
   "outputs": [
    {
     "data": {
      "image/png": "[encoded data removed]",
      "text/plain": [
       "<matplotlib.figure.Figure at 0x10d63c7f0>"
      ]
     },
     "metadata": {},
     "output_type": "display_data"
    }
   ],
   "source": [
    "\n",
    "import matplotlib.pyplot as plt\n",
    "r = df_1['Rating']\n",
    "r.plot(kind='hist',histtype = 'bar', align = \"left\",rwidth = 0.5,bins=[0,1, 2,3, 4, 5, 6, 7, 8,9,10,11])\n",
    "plt.show()"
   ]
  },
  {
   "cell_type": "markdown",
   "metadata": {},
   "source": [
    "Over 44971, From the dirstribution of the ratings. We found the ratings centered around 6"
   ]
  },
  {
   "cell_type": "code",
   "execution_count": 21,
   "metadata": {},
   "outputs": [
    {
     "data": {
      "text/plain": [
       "count    44971.000000\n",
       "mean         5.898761\n",
       "std          1.435365\n",
       "min          1.000000\n",
       "25%          5.000000\n",
       "50%          6.000000\n",
       "75%          6.900000\n",
       "max          9.800000\n",
       "Name: Rating, dtype: float64"
      ]
     },
     "execution_count": 21,
     "metadata": {},
     "output_type": "execute_result"
    }
   ],
   "source": [
    "import numpy as np\n",
    "r.describe()"
   ]
  },
  {
   "cell_type": "code",
   "execution_count": 22,
   "metadata": {
    "collapsed": true
   },
   "outputs": [],
   "source": [
    "df_y1 = df_1[np.logical_and(df_1['Year'] >= 1950, df_1['Year'] < 1960)]\n",
    "df_y2 = df_1[np.logical_and(df_1['Year'] >= 1960, df_1['Year'] < 1970)]\n",
    "df_y3 = df_1[np.logical_and(df_1['Year'] >= 1970, df_1['Year'] < 1980)]\n",
    "df_y4 = df_1[np.logical_and(df_1['Year'] >= 1980, df_1['Year'] < 1990)]\n",
    "df_y5 = df_1[np.logical_and(df_1['Year'] >= 1990, df_1['Year'] < 2000)]\n",
    "df_y6 = df_1[np.logical_and(df_1['Year'] >= 2000, df_1['Year'] < 2010)]\n",
    "df_y7 = df_1[df_1['Year'] >= 2010]\n"
   ]
  },
  {
   "cell_type": "code",
   "execution_count": 23,
   "metadata": {},
   "outputs": [
    {
     "data": {
      "image/png": "[encoded data removed]",
      "text/plain": [
       "<matplotlib.figure.Figure at 0x10d869860>"
      ]
     },
     "metadata": {},
     "output_type": "display_data"
    }
   ],
   "source": [
    "from scipy.stats import norm\n",
    "df_y = [df_y1, df_y2, df_y3, df_y4, df_y5, df_y6, df_y7]\n",
    "i = 1\n",
    "for r in df_y:\n",
    "    ax = plt.subplot2grid((4,2), (i//2, i%2))\n",
    "    i = i + 1\n",
    "    r = df_y1['Rating']\n",
    "    ax.hist(r, histtype = 'bar', align = \"left\",rwidth = 0.5,bins=[0,0.5, 1,1.5, 2,2.5, 3, 3.5, 4, 4.5, 5, 5.5, 6, 6.5, 7, 7.5, 8,8.5, 9,9.5, 10,10.5, 11], normed=True)\n",
    "    \n",
    "    x = np.linspace(r.min(), r.max(), r.shape[0])\n",
    "\n",
    "    rv = norm(loc = np.mean(r), scale = np.std(r))\n",
    "    ax.plot(x, rv.pdf(x), 'r-', lw=5, alpha=0.6, label='norm pdf')\n",
    "plt.show()"
   ]
  },
  {
   "cell_type": "code",
   "execution_count": null,
   "metadata": {
    "collapsed": true
   },
   "outputs": [],
   "source": []
  },
  {
   "cell_type": "markdown",
   "metadata": {},
   "source": [
    "The formula for calculating the Top Rated 250 Titles gives a true Bayesian estimate:\n",
    "weighted rating (WR) = (v ÷ (v+m)) × R + (m ÷ (v+m)) × C\n",
    "Where:\n",
    " - R = average for the movie (mean) = (Rating)\n",
    " - v = number of votes for the movie = (votes)\n",
    " - m = a good number of votes to rely on the rating based on votes (m as the average number of votes)\n",
    " - C = the mean vote across the whole report (currently 7.0)"
   ]
  },
  {
   "cell_type": "code",
   "execution_count": 52,
   "metadata": {},
   "outputs": [],
   "source": [
    "def get_values(df):\n",
    "    v = np.empty(df.shape[1] - 5)\n",
    "    for genre in df[5:]:\n",
    "        \n",
    "        np.append(v, sum(df[df[genre] == 1]['Votes']))\n",
    "    return v\n",
    "def true_bayesian_estimate(R, v, m, C):\n",
    "    \n",
    "    return (v/(v+m))*R + (m/(c+m))*C\n",
    "df11_1 = df11[df11[df11.columns[5:]].sum(axis = 1) != 0]\n"
   ]
  },
  {
   "cell_type": "code",
   "execution_count": 61,
   "metadata": {},
   "outputs": [
    {
     "data": {
      "text/plain": [
       "27405766"
      ]
     },
     "execution_count": 61,
     "metadata": {},
     "output_type": "execute_result"
    }
   ],
   "source": [
    "sum(df11_1[df11_1['Genre_Drama'] == 1]['Votes'])"
   ]
  },
  {
   "cell_type": "code",
   "execution_count": null,
   "metadata": {},
   "outputs": [],
   "source": []
  },
  {
   "cell_type": "code",
   "execution_count": null,
   "metadata": {
    "collapsed": true
   },
   "outputs": [],
   "source": []
  }
 ],
 "metadata": {
  "kernelspec": {
   "display_name": "Python 3",
   "language": "python",
   "name": "python3"
  },
  "language_info": {
   "codemirror_mode": {
    "name": "ipython",
    "version": 3
   },
   "file_extension": ".py",
   "mimetype": "text/x-python",
   "name": "python",
   "nbconvert_exporter": "python",
   "pygments_lexer": "ipython3",
   "version": "3.6.3"
  }
 },
 "nbformat": 4,
 "nbformat_minor": 2
}
