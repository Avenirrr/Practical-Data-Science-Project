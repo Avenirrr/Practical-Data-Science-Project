{
 "cells": [
  {
   "cell_type": "code",
   "execution_count": 66,
   "metadata": {},
   "outputs": [],
   "source": [
    "import pandas as pd\n",
    "\n",
    "df1 = pd.read_pickle(\"./data/movies.pkl\")\n",
    "df2 = pd.read_pickle(\"./data/movies2.pkl\")\n",
    "df3 = pd.read_pickle(\"./data/movies3.pkl\")\n",
    "df4 = pd.read_pickle(\"./data/movies4.pkl\")\n",
    "df5 = pd.read_pickle(\"./data/movies5.pkl\")\n"
   ]
  },
  {
   "cell_type": "code",
   "execution_count": 67,
   "metadata": {},
   "outputs": [
    {
     "data": {
      "text/plain": [
       "47361"
      ]
     },
     "execution_count": 67,
     "metadata": {},
     "output_type": "execute_result"
    }
   ],
   "source": [
    "df = pd.concat([df1,df2,df3,df4,df5]).drop_duplicates().reset_index(drop=True)\n",
    "len(df)"
   ]
  },
  {
   "cell_type": "code",
   "execution_count": 68,
   "metadata": {},
   "outputs": [
    {
     "data": {
      "text/plain": [
       "Index(['Name', 'Rating', 'Year', 'Genre_Action', 'Genre_Adventure',\n",
       "       'Genre_Animation', 'Genre_Biography', 'Genre_Comedy', 'Genre_Crime',\n",
       "       'Genre_Documentary', 'Genre_Drama', 'Genre_Family', 'Genre_Fantasy',\n",
       "       'Genre_Film-Noir', 'Genre_Game-Show', 'Genre_History', 'Genre_Horror',\n",
       "       'Genre_Music', 'Genre_Musical', 'Genre_Mystery', 'Genre_News',\n",
       "       'Genre_Reality-TV', 'Genre_Romance', 'Genre_Sci-Fi', 'Genre_Sport',\n",
       "       'Genre_Talk-Show', 'Genre_Thriller', 'Genre_War', 'Genre_Western'],\n",
       "      dtype='object')"
      ]
     },
     "execution_count": 68,
     "metadata": {},
     "output_type": "execute_result"
    }
   ],
   "source": [
    "df.columns"
   ]
  },
  {
   "cell_type": "code",
   "execution_count": 72,
   "metadata": {},
   "outputs": [
    {
     "name": "stdout",
     "output_type": "stream",
     "text": [
      "44971\n"
     ]
    },
    {
     "data": {
      "text/plain": [
       "Index(['Name', 'Rating', 'Year', 'Genre_Action', 'Genre_Adventure',\n",
       "       'Genre_Animation', 'Genre_Biography', 'Genre_Comedy', 'Genre_Crime',\n",
       "       'Genre_Documentary', 'Genre_Drama', 'Genre_Family', 'Genre_Fantasy',\n",
       "       'Genre_Film-Noir', 'Genre_Game-Show', 'Genre_History', 'Genre_Horror',\n",
       "       'Genre_Music', 'Genre_Musical', 'Genre_Mystery', 'Genre_News',\n",
       "       'Genre_Reality-TV', 'Genre_Romance', 'Genre_Sci-Fi', 'Genre_Sport',\n",
       "       'Genre_Talk-Show', 'Genre_Thriller', 'Genre_War', 'Genre_Western'],\n",
       "      dtype='object')"
      ]
     },
     "execution_count": 72,
     "metadata": {},
     "output_type": "execute_result"
    }
   ],
   "source": [
    "#Preprocess\n",
    "df_1 = df[df[df.columns[4:]].sum(axis = 1) != 0]\n",
    "print(len(df_1))\n",
    "df_1.columns\n",
    "#check for NULL\n",
    "df_1.isnull().values.any()"
   ]
  },
  {
   "cell_type": "code",
   "execution_count": 73,
   "metadata": {},
   "outputs": [
    {
     "data": {
      "image/png": "[encoded data removed]",
      "text/plain": [
       "<matplotlib.figure.Figure at 0x10a35db38>"
      ]
     },
     "metadata": {},
     "output_type": "display_data"
    }
   ],
   "source": [
    "\n",
    "import matplotlib.pyplot as plt\n",
    "r = df_1['Rating']\n",
    "r.plot(kind='hist',histtype = 'bar', align = \"left\",rwidth = 0.5,bins=[0,1, 2,3, 4, 5, 6, 7, 8,9,10,11])\n",
    "plt.show()"
   ]
  },
  {
   "cell_type": "markdown",
   "metadata": {},
   "source": [
    "Over 44971, From the dirstribution of the ratings. We found the ratings centered around 6"
   ]
  },
  {
   "cell_type": "code",
   "execution_count": 91,
   "metadata": {},
   "outputs": [
    {
     "data": {
      "text/plain": [
       "0         True\n",
       "1         True\n",
       "2         True\n",
       "3         True\n",
       "4         True\n",
       "5         True\n",
       "6         True\n",
       "7         True\n",
       "8         True\n",
       "9         True\n",
       "10        True\n",
       "11        True\n",
       "12        True\n",
       "13        True\n",
       "14        True\n",
       "15        True\n",
       "16        True\n",
       "17        True\n",
       "18        True\n",
       "19        True\n",
       "20        True\n",
       "21        True\n",
       "22        True\n",
       "23        True\n",
       "24        True\n",
       "25        True\n",
       "26        True\n",
       "27        True\n",
       "28        True\n",
       "29        True\n",
       "         ...  \n",
       "47329    False\n",
       "47330    False\n",
       "47331    False\n",
       "47332    False\n",
       "47333    False\n",
       "47334    False\n",
       "47335    False\n",
       "47336    False\n",
       "47337    False\n",
       "47338    False\n",
       "47340    False\n",
       "47341    False\n",
       "47342    False\n",
       "47343    False\n",
       "47344    False\n",
       "47345    False\n",
       "47346    False\n",
       "47347    False\n",
       "47348    False\n",
       "47349    False\n",
       "47350    False\n",
       "47351    False\n",
       "47352    False\n",
       "47353    False\n",
       "47354    False\n",
       "47355    False\n",
       "47356    False\n",
       "47357    False\n",
       "47358    False\n",
       "47360    False\n",
       "Name: Year, Length: 44971, dtype: bool"
      ]
     },
     "execution_count": 91,
     "metadata": {},
     "output_type": "execute_result"
    }
   ],
   "source": [
    "import numpy as np\n",
    "r.describe()\n",
    "np.logical_and(df_1['Year'] >= 1950, df_1['Year'] < 1960)"
   ]
  },
  {
   "cell_type": "code",
   "execution_count": 83,
   "metadata": {},
   "outputs": [
    {
     "ename": "ValueError",
     "evalue": "The truth value of a Series is ambiguous. Use a.empty, a.bool(), a.item(), a.any() or a.all().",
     "output_type": "error",
     "traceback": [
      "\u001b[0;31m---------------------------------------------------------------------------\u001b[0m",
      "\u001b[0;31mValueError\u001b[0m                                Traceback (most recent call last)",
      "\u001b[0;32m<ipython-input-83-586443a87add>\u001b[0m in \u001b[0;36m<module>\u001b[0;34m()\u001b[0m\n\u001b[0;32m----> 1\u001b[0;31m \u001b[0mdf_y1\u001b[0m \u001b[0;34m=\u001b[0m \u001b[0mdf_1\u001b[0m\u001b[0;34m[\u001b[0m\u001b[0mdf_1\u001b[0m\u001b[0;34m[\u001b[0m\u001b[0;34m'Year'\u001b[0m\u001b[0;34m]\u001b[0m \u001b[0;34m>=\u001b[0m \u001b[0;36m1950\u001b[0m \u001b[0;34m&\u001b[0m \u001b[0mdf_1\u001b[0m\u001b[0;34m[\u001b[0m\u001b[0;34m'Year'\u001b[0m\u001b[0;34m]\u001b[0m \u001b[0;34m<\u001b[0m \u001b[0;36m1960\u001b[0m\u001b[0;34m]\u001b[0m\u001b[0;34m\u001b[0m\u001b[0m\n\u001b[0m\u001b[1;32m      2\u001b[0m \u001b[0mdf_y2\u001b[0m \u001b[0;34m=\u001b[0m \u001b[0mdf_1\u001b[0m\u001b[0;34m[\u001b[0m\u001b[0mdf_1\u001b[0m\u001b[0;34m[\u001b[0m\u001b[0;34m'Year'\u001b[0m\u001b[0;34m]\u001b[0m \u001b[0;34m>=\u001b[0m \u001b[0;36m1960\u001b[0m \u001b[0;34m&\u001b[0m \u001b[0mdf_1\u001b[0m\u001b[0;34m[\u001b[0m\u001b[0;34m'Year'\u001b[0m\u001b[0;34m]\u001b[0m \u001b[0;34m<\u001b[0m \u001b[0;36m1970\u001b[0m\u001b[0;34m]\u001b[0m\u001b[0;34m\u001b[0m\u001b[0m\n\u001b[1;32m      3\u001b[0m \u001b[0mdf_y3\u001b[0m \u001b[0;34m=\u001b[0m \u001b[0mdf_1\u001b[0m\u001b[0;34m[\u001b[0m\u001b[0mdf_1\u001b[0m\u001b[0;34m[\u001b[0m\u001b[0;34m'Year'\u001b[0m\u001b[0;34m]\u001b[0m \u001b[0;34m>=\u001b[0m \u001b[0;36m1970\u001b[0m \u001b[0;34m&\u001b[0m \u001b[0mdf_1\u001b[0m\u001b[0;34m[\u001b[0m\u001b[0;34m'Year'\u001b[0m\u001b[0;34m]\u001b[0m \u001b[0;34m<\u001b[0m \u001b[0;36m1980\u001b[0m\u001b[0;34m]\u001b[0m\u001b[0;34m\u001b[0m\u001b[0m\n\u001b[1;32m      4\u001b[0m \u001b[0mdf_y4\u001b[0m \u001b[0;34m=\u001b[0m \u001b[0mdf_1\u001b[0m\u001b[0;34m[\u001b[0m\u001b[0mdf_1\u001b[0m\u001b[0;34m[\u001b[0m\u001b[0;34m'Year'\u001b[0m\u001b[0;34m]\u001b[0m \u001b[0;34m>=\u001b[0m \u001b[0;36m1980\u001b[0m \u001b[0;34m&\u001b[0m \u001b[0mdf_1\u001b[0m\u001b[0;34m[\u001b[0m\u001b[0;34m'Year'\u001b[0m\u001b[0;34m]\u001b[0m \u001b[0;34m<\u001b[0m \u001b[0;36m1990\u001b[0m\u001b[0;34m]\u001b[0m\u001b[0;34m\u001b[0m\u001b[0m\n\u001b[1;32m      5\u001b[0m \u001b[0mdf_y5\u001b[0m \u001b[0;34m=\u001b[0m \u001b[0mdf_1\u001b[0m\u001b[0;34m[\u001b[0m\u001b[0mdf_1\u001b[0m\u001b[0;34m[\u001b[0m\u001b[0;34m'Year'\u001b[0m\u001b[0;34m]\u001b[0m \u001b[0;34m>=\u001b[0m \u001b[0;36m1990\u001b[0m \u001b[0;34m&\u001b[0m \u001b[0mdf_1\u001b[0m\u001b[0;34m[\u001b[0m\u001b[0;34m'Year'\u001b[0m\u001b[0;34m]\u001b[0m \u001b[0;34m<\u001b[0m \u001b[0;36m2000\u001b[0m\u001b[0;34m]\u001b[0m\u001b[0;34m\u001b[0m\u001b[0m\n",
      "\u001b[0;32m~/anaconda3/lib/python3.6/site-packages/pandas/core/generic.py\u001b[0m in \u001b[0;36m__nonzero__\u001b[0;34m(self)\u001b[0m\n\u001b[1;32m    953\u001b[0m         raise ValueError(\"The truth value of a {0} is ambiguous. \"\n\u001b[1;32m    954\u001b[0m                          \u001b[0;34m\"Use a.empty, a.bool(), a.item(), a.any() or a.all().\"\u001b[0m\u001b[0;34m\u001b[0m\u001b[0m\n\u001b[0;32m--> 955\u001b[0;31m                          .format(self.__class__.__name__))\n\u001b[0m\u001b[1;32m    956\u001b[0m \u001b[0;34m\u001b[0m\u001b[0m\n\u001b[1;32m    957\u001b[0m     \u001b[0m__bool__\u001b[0m \u001b[0;34m=\u001b[0m \u001b[0m__nonzero__\u001b[0m\u001b[0;34m\u001b[0m\u001b[0m\n",
      "\u001b[0;31mValueError\u001b[0m: The truth value of a Series is ambiguous. Use a.empty, a.bool(), a.item(), a.any() or a.all()."
     ]
    }
   ],
   "source": [
    "df_y1 = df_1[np.logical_and(df_1['Year'] >= 1950, df_1['Year'] < 1960)]\n",
    "df_y2 = df_1[np.logical_and(df_1['Year'] >= 1960, df_1['Year'] < 1970)]\n",
    "df_y3 = df_1[df_1['Year'] >= 1970 & df_1['Year'] < 1980]\n",
    "df_y4 = df_1[df_1['Year'] >= 1980 & df_1['Year'] < 1990]\n",
    "df_y5 = df_1[df_1['Year'] >= 1990 & df_1['Year'] < 2000]\n",
    "df_y6 = df_1[df_1['Year'] >= 2000 & df_1['Year'] < 2010]\n",
    "df_y7 = df_1[df_1['Year'] >= 2010]"
   ]
  },
  {
   "cell_type": "code",
   "execution_count": null,
   "metadata": {
    "collapsed": true
   },
   "outputs": [],
   "source": [
    "def true_bayesian_estimate(R):\n",
    "    "
   ]
  }
 ],
 "metadata": {
  "kernelspec": {
   "display_name": "Python 3",
   "language": "python",
   "name": "python3"
  },
  "language_info": {
   "codemirror_mode": {
    "name": "ipython",
    "version": 3
   },
   "file_extension": ".py",
   "mimetype": "text/x-python",
   "name": "python",
   "nbconvert_exporter": "python",
   "pygments_lexer": "ipython3",
   "version": "3.6.3"
  }
 },
 "nbformat": 4,
 "nbformat_minor": 2
}
