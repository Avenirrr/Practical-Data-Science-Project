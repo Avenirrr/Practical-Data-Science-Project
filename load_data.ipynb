{
 "cells": [
  {
   "cell_type": "code",
   "execution_count": 1,
   "metadata": {},
   "outputs": [
    {
     "data": {
      "text/plain": [
       "29940"
      ]
     },
     "execution_count": 1,
     "metadata": {},
     "output_type": "execute_result"
    }
   ],
   "source": [
    "import pandas as pd\n",
    "df1 = pd.read_pickle(\"movies1.pkl\")\n",
    "df2 = pd.read_pickle(\"movies2.pkl\")\n",
    "df3 = pd.read_pickle(\"movies3.pkl\")\n",
    "df = pd.concat([df1,df2, df3]).drop_duplicates().reset_index(drop=True)\n",
    "len(df)"
   ]
  },
  {
   "cell_type": "code",
   "execution_count": null,
   "metadata": {
    "collapsed": true
   },
   "outputs": [],
   "source": []
  },
  {
   "cell_type": "code",
   "execution_count": 2,
   "metadata": {},
   "outputs": [
    {
     "name": "stdout",
     "output_type": "stream",
     "text": [
      "28372\n"
     ]
    }
   ],
   "source": [
    "#Preprocess\n",
    "df_1 = df[df[df.columns[5:]].sum(axis = 1) != 0]\n",
    "df_1 = df_1[df_1['Year'] != 2016]\n",
    "print(len(df_1))"
   ]
  },
  {
   "cell_type": "code",
   "execution_count": 3,
   "metadata": {},
   "outputs": [
    {
     "data": {
      "image/png": "[encoded data removed]",
      "text/plain": [
       "<matplotlib.figure.Figure at 0x10a076da0>"
      ]
     },
     "metadata": {},
     "output_type": "display_data"
    }
   ],
   "source": [
    "import matplotlib.pyplot as plt\n",
    "r = df_1['Rating']\n",
    "r.plot(kind='hist',histtype = 'bar', align = \"left\",rwidth = 0.5,bins=[0,1, 2,3, 4, 5, 6, 7, 8,9,10,11])\n",
    "plt.show()"
   ]
  },
  {
   "cell_type": "markdown",
   "metadata": {},
   "source": [
    "Over 44971, From the dirstribution of the ratings. We found the ratings centered around 6"
   ]
  },
  {
   "cell_type": "code",
   "execution_count": 4,
   "metadata": {},
   "outputs": [
    {
     "data": {
      "text/plain": [
       "count    28372.000000\n",
       "mean         5.800120\n",
       "std          1.329555\n",
       "min          1.100000\n",
       "25%          5.000000\n",
       "50%          5.900000\n",
       "75%          6.700000\n",
       "max          9.300000\n",
       "Name: Rating, dtype: float64"
      ]
     },
     "execution_count": 4,
     "metadata": {},
     "output_type": "execute_result"
    }
   ],
   "source": [
    "import numpy as np\n",
    "r.describe()\n"
   ]
  },
  {
   "cell_type": "code",
   "execution_count": 5,
   "metadata": {
    "collapsed": true
   },
   "outputs": [],
   "source": [
    "df_y1 = df_1[np.logical_and(df_1['Year'] >= 1950, df_1['Year'] < 1960)]\n",
    "df_y2 = df_1[np.logical_and(df_1['Year'] >= 1960, df_1['Year'] < 1970)]\n",
    "df_y3 = df_1[np.logical_and(df_1['Year'] >= 1970, df_1['Year'] < 1980)]\n",
    "df_y4 = df_1[np.logical_and(df_1['Year'] >= 1980, df_1['Year'] < 1990)]\n",
    "df_y5 = df_1[np.logical_and(df_1['Year'] >= 1990, df_1['Year'] < 2000)]\n",
    "df_y6 = df_1[df_1['Year'] >= 2000]"
   ]
  },
  {
   "cell_type": "code",
   "execution_count": 6,
   "metadata": {},
   "outputs": [
    {
     "data": {
      "image/png": "[encoded data removed]",
      "text/plain": [
       "<matplotlib.figure.Figure at 0x10ae0e0b8>"
      ]
     },
     "metadata": {},
     "output_type": "display_data"
    }
   ],
   "source": [
    "from scipy.stats import norm\n",
    "df_y = [df_y1, df_y2, df_y3, df_y4, df_y5, df_y6]\n",
    "i = 0\n",
    "for col in df_y:\n",
    "    ax = plt.subplot2grid((3,2), (i//2, i%2))\n",
    "    i = i + 1\n",
    "    r = col['Rating']\n",
    "    ax.hist(r, histtype = 'bar', align = \"left\",rwidth = 0.5,bins=[0,0.5, 1,1.5, 2,2.5, 3, 3.5, 4, 4.5, 5, 5.5, 6, 6.5, 7, 7.5, 8,8.5, 9,9.5, 10,10.5, 11], normed=True)\n",
    "    \n",
    "    x = np.linspace(r.min(), r.max(), r.shape[0])\n",
    "\n",
    "    rv = norm(loc = np.mean(r), scale = np.std(r))\n",
    "    ax.plot(x, rv.pdf(x), 'r-', lw=5, alpha=0.6, label='norm pdf')\n",
    "plt.show()"
   ]
  },
  {
   "cell_type": "code",
   "execution_count": null,
   "metadata": {
    "collapsed": true
   },
   "outputs": [],
   "source": []
  },
  {
   "cell_type": "markdown",
   "metadata": {},
   "source": [
    "The formula for calculating the Top Rated 250 Titles gives a true Bayesian estimate:\n",
    "weighted rating (WR) = (v ÷ (v+m)) × R + (m ÷ (v+m)) × C\n",
    "Where:\n",
    " - R = average rating for across movie genres = (Rating)\n",
    " - v = number of votes for across movie genres = (votes)\n",
    " - m = a good number of votes to rely on the rating based on votes (m as the average number of votes)\n",
    " - C = the mean ratings of all movies (currently 7.0)"
   ]
  },
  {
   "cell_type": "code",
   "execution_count": 7,
   "metadata": {
    "collapsed": true
   },
   "outputs": [],
   "source": [
    "def get_values(df, ):\n",
    "    v = []\n",
    "    R = []\n",
    "    for genre in df.columns[5:]:\n",
    "\n",
    "        v1 = sum(df[df[genre] == 1]['Votes'])\n",
    "        r1 = np.mean(df[df[genre] == 1]['Rating'])\n",
    "        R.append(r1)\n",
    "        v.append(v1)\n",
    "    m = np.mean(df['Votes'])\n",
    "    C = np.mean(df['Rating'])\n",
    "    return np.asarray(R), np.asarray(v), m, C\n",
    "def true_bayesian_estimate(df):\n",
    "    R, v, m, C = get_values(df)\n",
    "    return (v/(v+m))*R + (m/(v+m))*C"
   ]
  },
  {
   "cell_type": "code",
   "execution_count": 8,
   "metadata": {},
   "outputs": [
    {
     "data": {
      "image/png": "[encoded data removed]",
      "text/plain": [
       "<matplotlib.figure.Figure at 0x106677a90>"
      ]
     },
     "metadata": {},
     "output_type": "display_data"
    }
   ],
   "source": [
    "i = 0\n",
    "for df in df_y:\n",
    "    ax = plt.subplot2grid((3,2), (i//2, i%2))\n",
    "    i = i + 1\n",
    "    y = true_bayesian_estimate(df)\n",
    "    y = np.nan_to_num(y)\n",
    "    x = df.columns[5:]\n",
    "    plt.bar(range(y.shape[0]), y)\n",
    "plt.show()"
   ]
  },
  {
   "cell_type": "markdown",
   "metadata": {},
   "source": [
    "From this exploration, we found several generes have rae corresponding values in other variables. We decide to remove those generes for later linear regression"
   ]
  },
  {
   "cell_type": "code",
   "execution_count": 114,
   "metadata": {},
   "outputs": [],
   "source": [
    "#remove genres\n",
    "generes = df_1.columns[5:]\n",
    "\n",
    "remove_genre = []\n",
    "for genre in generes:\n",
    "    if((df_1[genre] == 0).all()):\n",
    "        remove_genre.append(genre)\n",
    "df_11 = df_1.drop(remove_genre, axis = 1)"
   ]
  },
  {
   "cell_type": "markdown",
   "metadata": {},
   "source": [
    "# Gross as an indicator of popularity in movie market  \n",
    "## The average gross over years\n",
    "To find the trend of the gross over years, apply the sliding average on this time series data to smooth out short-term flucatuations and find the longer-term trend."
   ]
  },
  {
   "cell_type": "markdown",
   "metadata": {},
   "source": []
  },
  {
   "cell_type": "code",
   "execution_count": null,
   "metadata": {
    "collapsed": true
   },
   "outputs": [],
   "source": []
  },
  {
   "cell_type": "code",
   "execution_count": 10,
   "metadata": {
    "collapsed": true
   },
   "outputs": [],
   "source": [
    "def parse_gross(s):    \n",
    "    try:\n",
    "        if (s[-1]==\"M\"):\n",
    "            return (float(s[1:-1]))\n",
    "    except:\n",
    "        return np.nan\n",
    "df_11[\"Gross\"] = df_11[\"Gross\"].apply(parse_gross)\n",
    "df_11[\"Votes\"] = pd.to_numeric(df_11[\"Votes\"])\n"
   ]
  },
  {
   "cell_type": "code",
   "execution_count": 11,
   "metadata": {
    "collapsed": true
   },
   "outputs": [],
   "source": [
    "from collections import deque\n",
    "\n",
    "class SlidingAverage:\n",
    "    def __init__(self,k):\n",
    "        \"\"\" Initializes a sliding average calculator which keeps track of the average of the last k seen elements. \n",
    "        \n",
    "        Args: \n",
    "            k (int): the number of elements to average (the half-width of the sliding average window)\n",
    "        \"\"\"\n",
    "        self.k = k\n",
    "        self.s = deque(maxlen = 2*k + 1)\n",
    "        self.s.extend([None] * k)\n",
    "        self.sum = 0.0\n",
    "        self.num = 0.0\n",
    "        \n",
    "    def update(self,x):\n",
    "        \"\"\" Computes the sliding average after having seen element x \n",
    "        \n",
    "        Args:\n",
    "            x (float): the next element in the stream to view\n",
    "            \n",
    "        Returns: \n",
    "            (float): the new sliding average after having seen element x, if it can be calculated\n",
    "        \"\"\"\n",
    "        self.s.append(x)\n",
    "        if x is not None:\n",
    "            self.sum = self.sum + x\n",
    "            self.num = self.num + 1\n",
    "        if len(self.s) == 2*(self.k) + 1:\n",
    "            slidingavg = self.sum/(self.num)\n",
    "            if (not (self.s[0] is None)):\n",
    "                self.num = self.num - 1\n",
    "                self.sum = self.sum - self.s[0]\n",
    "\n",
    "            return slidingavg\n",
    "        return None\n",
    "    \n",
    "\n",
    "def compute_sliding_averages(s, k):\n",
    "    \"\"\" Computes the sliding averages for a given Pandas series using the SlidingAverage class. \n",
    "    \n",
    "    Args:\n",
    "        s (pd.Series): a Pandas series for which the sliding average needs to be calculated\n",
    "        k (int): the half-width of the sliding average window \n",
    "        \n",
    "    Returns:\n",
    "        (pd.Series): a Pandas series of the sliding averages\n",
    "    \n",
    "    \"\"\"\n",
    "    if k == 0:\n",
    "        return s\n",
    "    sa = SlidingAverage(k)\n",
    "    s1 = pd.Series()\n",
    "    snew = [val for val in map(sa.update, s) if val is not None]  \n",
    "    snew.extend([val for val in map(sa.update, [None]*k) if val is not None])\n",
    "    s1 = s1.append(pd.Series(snew))\n",
    "    return s1\n",
    "subdf = df_11.dropna()\n",
    "gross_y = subdf.groupby(['Year'])['Gross'].mean()\n",
    "gross_y_slide_average = compute_sliding_averages(pd.Series(gross_y),5)\n"
   ]
  },
  {
   "cell_type": "code",
   "execution_count": 12,
   "metadata": {},
   "outputs": [
    {
     "data": {
      "image/png": "[encoded data removed]",
      "text/plain": [
       "<matplotlib.figure.Figure at 0x1815d34cf8>"
      ]
     },
     "metadata": {},
     "output_type": "display_data"
    }
   ],
   "source": [
    "plt.plot(range(1950, 2010), gross_y_slide_average)\n",
    "plt.show()"
   ]
  },
  {
   "cell_type": "code",
   "execution_count": 13,
   "metadata": {},
   "outputs": [
    {
     "data": {
      "image/png": "[encoded data removed]",
      "text/plain": [
       "<matplotlib.figure.Figure at 0x1815d34860>"
      ]
     },
     "metadata": {},
     "output_type": "display_data"
    }
   ],
   "source": [
    "rating_y1 = df_11.groupby(['Year'])['Rating'].mean()\n",
    "rating_y1_slide_average = compute_sliding_averages(pd.Series(rating_y1),5)\n",
    "plt.plot(range(1950, 2010), rating_y1_slide_average)\n",
    "plt.show()"
   ]
  },
  {
   "cell_type": "code",
   "execution_count": 14,
   "metadata": {},
   "outputs": [
    {
     "data": {
      "image/png": "[encoded data removed]",
      "text/plain": [
       "<matplotlib.figure.Figure at 0x1a16154748>"
      ]
     },
     "metadata": {},
     "output_type": "display_data"
    }
   ],
   "source": [
    "rating_y1 = df_11.groupby(['Year'])['Name'].count()\n",
    "plt.plot(range(1950, 2010),rating_y1)\n",
    "plt.show()"
   ]
  },
  {
   "cell_type": "markdown",
   "metadata": {},
   "source": [
    "R = average rating for across movie genres = (Rating)\n",
    "v = number of votes for across movie genres = (votes)\n",
    "m = a good number of votes to rely on the rating based on votes (m as the average number of votes)\n",
    "C = the mean ratings of all movies (currently 7.0)"
   ]
  },
  {
   "cell_type": "code",
   "execution_count": 55,
   "metadata": {
    "collapsed": true
   },
   "outputs": [],
   "source": [
    "from sklearn.linear_model import LinearRegression\n",
    "def true_bayesian_estimate_1(df):\n",
    "    R = df[\"Rating\"]\n",
    "    v = df[\"Votes\"]\n",
    "    m = v.quantile([.25, .5, .75])[0.25]\n",
    "    C = (R).mean()\n",
    "    return (v/(v+m))*R + (m/(v+m))*C\n",
    "ps = true_bayesian_estimate_1(subdf)\n",
    "#df_by_year = subdf.groupby(['Year'])"
   ]
  },
  {
   "cell_type": "code",
   "execution_count": 56,
   "metadata": {},
   "outputs": [],
   "source": [
    "subdf = subdf.assign(Popularity = pd.Series(ps).values )"
   ]
  },
  {
   "cell_type": "code",
   "execution_count": 72,
   "metadata": {},
   "outputs": [
    {
     "data": {
      "image/png": "[encoded data removed]",
      "text/plain": [
       "<matplotlib.figure.Figure at 0x1a185e9da0>"
      ]
     },
     "metadata": {},
     "output_type": "display_data"
    }
   ],
   "source": [
    "#ax= sns.regplot(x=subdf[\"Popularity\"], y = subdf[\"Gross\"],lowess=True)\n",
    "plt.scatter(subdf[\"Popularity\"].values.reshape(-1, 1), subdf[\"Gross\"])\n",
    "plt.show()"
   ]
  },
  {
   "cell_type": "code",
   "execution_count": 58,
   "metadata": {},
   "outputs": [
    {
     "name": "stdout",
     "output_type": "stream",
     "text": [
      "[ 14.59315081]\n",
      "[ 0.  0.]\n",
      "Residuals:\n",
      "Min      1Q   Median       3Q      Max\n",
      "-611.5964 -7.5534  14.1299  23.7753  57.5914\n",
      "\n",
      "\n",
      "Coefficients:\n",
      "             Estimate  Std. Error  t value  p value\n",
      "_intercept -66.033729    4.223110 -15.6363      0.0\n",
      "x1          14.593151    0.183612  79.4780      0.0\n",
      "---\n",
      "R-squared:  0.06410,    Adjusted R-squared:  0.06397\n",
      "F-statistic: 470.08 on 1 features\n"
     ]
    }
   ],
   "source": [
    "from regressors import stats\n",
    "from sklearn.linear_model import LinearRegression\n",
    "lm = LinearRegression(fit_intercept=True, normalize=False)  \n",
    "subdf = subdf[subdf[\"Gross\"]!= 0]\n",
    "X = np.asarray(subdf[\"Popularity\"]).values.reshape(-1,1)\n",
    "y = np.asarray(subdf[\"Gross\"])\n",
    "lm.fit(X, y)\n",
    "print(lm.coef_)\n",
    "print(stats.coef_pval(lm, X, y))\n",
    "stats.summary(lm, X, y)"
   ]
  },
  {
   "cell_type": "code",
   "execution_count": 142,
   "metadata": {},
   "outputs": [
    {
     "name": "stdout",
     "output_type": "stream",
     "text": [
      "Residuals:\n",
      "Min      1Q  Median       3Q       Max\n",
      "-616.5301 -9.8367  7.8174  21.0076  101.1671\n",
      "\n",
      "\n",
      "Coefficients:\n",
      "              Estimate  Std. Error    t value   p value\n",
      "_intercept  925.851538   81.169896    11.4063  0.000000\n",
      "x1            0.551139    0.000285  1931.4762  0.000000\n",
      "x2           20.403732    1.441316    14.1563  0.000000\n",
      "x3           22.828447    1.585042    14.4024  0.000000\n",
      "x4           12.862467    2.943196     4.3702  0.000013\n",
      "x5           -1.969085    2.498987    -0.7880  0.430751\n",
      "x6            6.286757    1.157298     5.4323  0.000000\n",
      "x7            0.077718    1.336389     0.0582  0.953626\n",
      "x8          -10.410661    1.169986    -8.8981  0.000000\n",
      "x9           16.911603    2.000861     8.4522  0.000000\n",
      "x10          18.439661    1.995079     9.2426  0.000000\n",
      "x11          -6.086841   13.373404    -0.4551  0.649019\n",
      "x12           4.138580    3.337243     1.2401  0.214974\n",
      "x13           1.765317    1.922147     0.9184  0.358437\n",
      "x14           4.466142    2.635785     1.6944  0.090230\n",
      "x15           0.816938    3.532008     0.2313  0.817092\n",
      "x16           6.348824    1.961821     3.2362  0.001217\n",
      "x17           5.264521    1.262915     4.1685  0.000031\n",
      "x18          13.995485    2.205277     6.3464  0.000000\n",
      "x19           7.438266    2.922226     2.5454  0.010937\n",
      "x20           6.164636    1.553644     3.9679  0.000073\n",
      "x21           2.691630    3.579643     0.7519  0.452121\n",
      "x22          20.509240    0.643806    31.8562  0.000000\n",
      "---\n",
      "R-squared:  0.22801,    Adjusted R-squared:  0.22553\n",
      "F-statistic: 91.85 on 22 features\n"
     ]
    }
   ],
   "source": [
    "lm = LinearRegression(fit_intercept=True, normalize=False)  \n",
    "subdf = subdf[subdf[\"Gross\"]!= 0]\n",
    "generes = subdf.columns[5:]\n",
    "remove_genre = []\n",
    "for genre in generes:\n",
    "    if((subdf[genre] == 0).all()):\n",
    "        remove_genre.append(genre)\n",
    "subdf = subdf.drop(remove_genre, axis = 1)\n",
    "subdf[\"Year\"] = subdf[\"Year\"] - 1940\n",
    "X1 = np.asarray(subdf.iloc[:,[2]+list(range(5,subdf.shape[1] - 2))+ [-1]], dtype='float')\n",
    "#X1 =np.asarray(subdf.iloc[:,list(range(20,23))], dtype='float')\n",
    "\n",
    "\n",
    "y1 = np.asarray(subdf[\"Gross\"], dtype='float')\n",
    "lm.fit(X1, y1)\n",
    "\n",
    "coefs = lm.coef_\n",
    "pvals = stats.coef_pval(lm, X1, y1)\n",
    "stats.summary(lm, X1, y1)"
   ]
  },
  {
   "cell_type": "code",
   "execution_count": 143,
   "metadata": {},
   "outputs": [
    {
     "data": {
      "text/plain": [
       "[('Year', 0.55113873842110628, 0.0),\n",
       " ('Genre_Action', 20.403732092467642, 0.0),\n",
       " ('Genre_Adventure', 22.828446993073815, 0.0),\n",
       " ('Genre_Animation', 12.862466919878838, 1.2593953204076413e-05),\n",
       " ('Genre_Biography', -1.9690846160763993, 0.43075129921735922),\n",
       " ('Genre_Comedy', 6.2867570665758894, 5.7550968435293726e-08),\n",
       " ('Genre_Crime', 0.077718405735572205, 0.95362643765828503),\n",
       " ('Genre_Drama', -10.410661493024815, 0.0),\n",
       " ('Genre_Family', 16.911603489470998, 0.0),\n",
       " ('Genre_Fantasy', 18.439661045189801, 0.0),\n",
       " ('Genre_Film-Noir', -6.0868410448598667, 0.64901915860236858),\n",
       " ('Genre_History', 4.138580355176483, 0.21497350699127216),\n",
       " ('Genre_Horror', 1.7653167435050046, 0.35843724038456037),\n",
       " ('Genre_Music', 4.4661417854845453, 0.090229845209400583),\n",
       " ('Genre_Musical', 0.81693820707394504, 0.81709200650989233),\n",
       " ('Genre_Mystery', 6.3488238922931046, 0.0012171198214661061),\n",
       " ('Genre_Romance', 5.2645211416175997, 3.1031382617952019e-05),\n",
       " ('Genre_Sci-Fi', 13.995485312611359, 2.3450819064407824e-10),\n",
       " ('Genre_Sport', 7.4382660758669461, 0.010936594802851252),\n",
       " ('Genre_Thriller', 6.1646355832823563, 7.3260857316403971e-05),\n",
       " ('Genre_War', 2.6916300889021532, 0.45212080059978965),\n",
       " ('Popularity', 20.509240379312523, 0.0)]"
      ]
     },
     "execution_count": 143,
     "metadata": {},
     "output_type": "execute_result"
    }
   ],
   "source": [
    "variable_names = [subdf.columns[2]]+ list(subdf.columns[5:subdf.shape[1] - 2]) + [\"Popularity\"]\n",
    "list(zip(variable_names, coefs, pvals[1:]))"
   ]
  },
  {
   "cell_type": "code",
   "execution_count": null,
   "metadata": {},
   "outputs": [],
   "source": []
  },
  {
   "cell_type": "code",
   "execution_count": null,
   "metadata": {},
   "outputs": [],
   "source": []
  },
  {
   "cell_type": "code",
   "execution_count": null,
   "metadata": {
    "collapsed": true
   },
   "outputs": [],
   "source": []
  }
 ],
 "metadata": {
  "kernelspec": {
   "display_name": "Python 3",
   "language": "python",
   "name": "python3"
  },
  "language_info": {
   "codemirror_mode": {
    "name": "ipython",
    "version": 3
   },
   "file_extension": ".py",
   "mimetype": "text/x-python",
   "name": "python",
   "nbconvert_exporter": "python",
   "pygments_lexer": "ipython3",
   "version": "3.6.3"
  }
 },
 "nbformat": 4,
 "nbformat_minor": 2
}
