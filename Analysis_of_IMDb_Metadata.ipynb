{
 "cells": [
  {
   "cell_type": "code",
   "execution_count": 1,
   "metadata": {},
   "outputs": [],
   "source": [
    "import matplotlib.pyplot as plt\n",
    "import matplotlib\n",
    "from collections import deque\n",
    "import scipy.stats as st\n",
    "import requests, re\n",
    "import pandas as pd\n",
    "import numpy as np\n",
    "from time import sleep\n",
    "from bs4 import BeautifulSoup\n",
    "from scipy.stats import norm"
   ]
  },
  {
   "cell_type": "markdown",
   "metadata": {},
   "source": [
    "# Analysis of IMDb Movie Metadata\n",
    "\n",
    "We believe almost everyone must have asked a question: What should I watch tonight? <br>\n",
    "A lot of people try to explore movies from IMDb, potentialy the IMDb's list of \"top rated\" movies.<br>\n",
    "However, there are some questions we may need to answer in order to make sense of the IMDb scores: Are the movie scores really informative? What do they mean? What results in the difference in the scores?\n",
    "\n",
    "In this project, we intend to explore the variables that may be related to the movie scores to give people insights into understanding the IMDb movie scores.\n",
    "\n",
    "We will explore this topic in the following order:\n",
    "- [Data Collection and Preprocessing](#Data-Collection-and-Preprocessing)\n",
    "- [Score Calculation](#Score-Calculation)\n",
    "- [Film Genres as a Feature](#Film-Genres-as-a-Feature)\n",
    "- [Release Years as a Feature](#Release-Years-as-a-Feature)\n",
    "- [Linear Regression](#Linear-Regression)\n",
    "- [Movie Descriptions Text Analysis](#Movie-Descriptions-Text-Analysis)\n",
    "- [Conclusions](#Conclusions)\n",
    "- [Future Investigations](#Future-Investigations)\n",
    "- [Sources Consulted](#Sources-Consulted)"
   ]
  },
  {
   "cell_type": "markdown",
   "metadata": {},
   "source": [
    "## Data Collection and Preprocessing"
   ]
  },
  {
   "cell_type": "markdown",
   "metadata": {},
   "source": [
    "### Web Scraping"
   ]
  },
  {
   "cell_type": "markdown",
   "metadata": {},
   "source": [
    "We scraped the IMDb website for movie metadata and started from the advanced search result page so we would only get results with valid number of ratings. We collected data of US films from __1950 to 2010__. \n",
    "The raw metadata looks like this: \n",
    "![alt webpage](https://i.imgur.com/LnntOMw.png)\n",
    "\n"
   ]
  },
  {
   "cell_type": "markdown",
   "metadata": {},
   "source": [
    "In order to obtain the data, we used 2 libraries. First we get the webpages in HTML using __requests__. Secondly we used __beautiful soup__ to parse the HTML and retrive the features. For the features, we decided to encode genre as 1s and 0s using __one-hot encoding__ which will facilitate our further investigation.\n"
   ]
  },
  {
   "cell_type": "code",
   "execution_count": 2,
   "metadata": {},
   "outputs": [],
   "source": [
    "GENRES = ['Action', 'Adventure', 'Animation', 'Biography', 'Comedy', 'Crime', 'Documentary', 'Drama', 'Family', \n",
    "'Fantasy', 'Film-Noir', 'Game-Show', 'History', 'Horror', 'Music', 'Musical', 'Mystery', 'News', 'Reality-TV', \n",
    "'Romance', 'Sci-Fi', 'Sport', 'Talk-Show', 'Thriller', 'War', 'Western']\n",
    "FORMATTED = [\"Genre_\"+genre for genre in GENRES]"
   ]
  },
  {
   "cell_type": "markdown",
   "metadata": {},
   "source": [
    "the function that parses a single HTML page"
   ]
  },
  {
   "cell_type": "code",
   "execution_count": 3,
   "metadata": {},
   "outputs": [],
   "source": [
    "def parse_page(html, df):\n",
    "    def parse_votes(resultSet):\n",
    "        try:\n",
    "            nvs = resultSet[0].find_all(\"span\", {\"name\" :\"nv\"})\n",
    "            if (len(nvs) == 1):\n",
    "                return (int(nvs[0].text.replace(\",\", \"\")), np.nan)\n",
    "            return (int(nvs[0].text.replace(\",\", \"\")), nvs[1].text)\n",
    "        except: \n",
    "            return (0,0)\n",
    "    \n",
    "    soup = BeautifulSoup(html, 'html.parser')\n",
    "    # make a list of movies\n",
    "    listerlist = soup.find_all('div', class_ = \"lister-item mode-advanced\")\n",
    "    \n",
    "    # get all the titles\n",
    "    imgList = [movieItem.find('img') for movieItem in listerlist]\n",
    "    nameList = [imgItem[\"alt\"] for imgItem in imgList]\n",
    "    \n",
    "    # get all the ratings\n",
    "    ratingsRaw = [movieItem.find(\"strong\") for movieItem in listerlist]\n",
    "    ratings = [float(rawRating.text) for rawRating in ratingsRaw]\n",
    "\n",
    "    # get the number of votes. Due to the weird HTML structure, the gross and vote are listed together so it needs to be parsed\n",
    "    voteNumRaw = [movieItem.find_all(\"p\", class_=\"sort-num_votes-visible\") for movieItem in listerlist]\n",
    "    votes = [parse_votes(raw) for raw in voteNumRaw]\n",
    "\n",
    "    # get the year of release\n",
    "    yearsRaw = [movieItem.find(\"span\", class_ = \"lister-item-year text-muted unbold\") for movieItem in listerlist]\n",
    "    years = [int(re.findall(\"\\d{4}\", rawYear.text)[0]) for rawYear in yearsRaw]\n",
    "\n",
    "    # get the list of genres of a film\n",
    "    genresRaw = [movieItem.find(\"span\", class_ = \"genre\") for movieItem in listerlist]\n",
    "    genres = [(list(map(lambda x: x.strip(), rawGenre.text.split(\",\"))) if (rawGenre !=None) else []) for rawGenre in genresRaw]\n",
    "    \n",
    "    # get the summaries. Sometimes there is some exception due to the ill-formatted HTML\n",
    "    try:\n",
    "        summaryRaw = [movieItem.find_all(\"p\", class_=\"text-muted\") for movieItem in listerlist]\n",
    "        summaries = [raw[1].text.strip() for raw in summaryRaw]\n",
    "    except:\n",
    "        summaries = [\"\"] * len(nameList)\n",
    "\n",
    "    # insert a film as a column to the overall data frame\n",
    "    for i in range(len(nameList)):  \n",
    "        info = dict()\n",
    "        info[\"Name\"] = nameList[i]\n",
    "        info[\"Rating\"] = ratings[i]\n",
    "        info[\"Year\"] =  years[i]\n",
    "        info[\"Votes\"] = votes[i][0]\n",
    "        info[\"Gross\"] = votes[i][1]\n",
    "        info[\"Summary\"] = summaries[i]\n",
    "\n",
    "        for GENRE in GENRES:\n",
    "            info[\"Genre_\" + GENRE] = (int(GENRE in genres[i]))\n",
    "        df = df.append(info, ignore_index=True)\n",
    "    \n",
    "    # retrieve the link to the next 250 movies\n",
    "    nextRaw = soup.select(\"a.lister-page-next.next-page\")\n",
    "    nextURL = nextRaw[0][\"href\"] if (len(nextRaw) > 0) else None\n",
    "    if (nextURL != None):\n",
    "        nextURL = \"http://www.imdb.com/search/title\"+nextURL\n",
    "    return(df, nextURL)"
   ]
  },
  {
   "cell_type": "markdown",
   "metadata": {},
   "source": [
    "below is an example of a processed webpage."
   ]
  },
  {
   "cell_type": "code",
   "execution_count": 4,
   "metadata": {},
   "outputs": [
    {
     "name": "stdout",
     "output_type": "stream",
     "text": [
      "http://www.imdb.com/search/title?title_type=feature&release_date=2014-01-01,&num_votes=1,&countries=us&count=250&sort=release_date,asc&page=2&ref_=adv_nxt\n"
     ]
    },
    {
     "data": {
      "text/html": [
       "<div>\n",
       "<style scoped>\n",
       "    .dataframe tbody tr th:only-of-type {\n",
       "        vertical-align: middle;\n",
       "    }\n",
       "\n",
       "    .dataframe tbody tr th {\n",
       "        vertical-align: top;\n",
       "    }\n",
       "\n",
       "    .dataframe thead th {\n",
       "        text-align: right;\n",
       "    }\n",
       "</style>\n",
       "<table border=\"1\" class=\"dataframe\">\n",
       "  <thead>\n",
       "    <tr style=\"text-align: right;\">\n",
       "      <th></th>\n",
       "      <th>Name</th>\n",
       "      <th>Rating</th>\n",
       "      <th>Year</th>\n",
       "      <th>Votes</th>\n",
       "      <th>Gross</th>\n",
       "      <th>Summary</th>\n",
       "      <th>Genre_Action</th>\n",
       "      <th>Genre_Adventure</th>\n",
       "      <th>Genre_Animation</th>\n",
       "      <th>Genre_Biography</th>\n",
       "      <th>...</th>\n",
       "      <th>Genre_Mystery</th>\n",
       "      <th>Genre_News</th>\n",
       "      <th>Genre_Reality-TV</th>\n",
       "      <th>Genre_Romance</th>\n",
       "      <th>Genre_Sci-Fi</th>\n",
       "      <th>Genre_Sport</th>\n",
       "      <th>Genre_Talk-Show</th>\n",
       "      <th>Genre_Thriller</th>\n",
       "      <th>Genre_War</th>\n",
       "      <th>Genre_Western</th>\n",
       "    </tr>\n",
       "  </thead>\n",
       "  <tbody>\n",
       "    <tr>\n",
       "      <th>0</th>\n",
       "      <td>Paranormal Activity: The Marked Ones</td>\n",
       "      <td>5.0</td>\n",
       "      <td>2014</td>\n",
       "      <td>35349</td>\n",
       "      <td>$32.46M</td>\n",
       "      <td>When a young man becomes the target of a malev...</td>\n",
       "      <td>0</td>\n",
       "      <td>0</td>\n",
       "      <td>0</td>\n",
       "      <td>0</td>\n",
       "      <td>...</td>\n",
       "      <td>0</td>\n",
       "      <td>0</td>\n",
       "      <td>0</td>\n",
       "      <td>0</td>\n",
       "      <td>0</td>\n",
       "      <td>0</td>\n",
       "      <td>0</td>\n",
       "      <td>1</td>\n",
       "      <td>0</td>\n",
       "      <td>0</td>\n",
       "    </tr>\n",
       "  </tbody>\n",
       "</table>\n",
       "<p>1 rows × 32 columns</p>\n",
       "</div>"
      ],
      "text/plain": [
       "                                   Name  Rating  Year  Votes    Gross  \\\n",
       "0  Paranormal Activity: The Marked Ones     5.0  2014  35349  $32.46M   \n",
       "\n",
       "                                             Summary Genre_Action  \\\n",
       "0  When a young man becomes the target of a malev...            0   \n",
       "\n",
       "  Genre_Adventure Genre_Animation Genre_Biography      ...      Genre_Mystery  \\\n",
       "0               0               0               0      ...                  0   \n",
       "\n",
       "  Genre_News Genre_Reality-TV Genre_Romance Genre_Sci-Fi Genre_Sport  \\\n",
       "0          0                0             0            0           0   \n",
       "\n",
       "  Genre_Talk-Show Genre_Thriller Genre_War Genre_Western  \n",
       "0               0              1         0             0  \n",
       "\n",
       "[1 rows x 32 columns]"
      ]
     },
     "execution_count": 4,
     "metadata": {},
     "output_type": "execute_result"
    }
   ],
   "source": [
    "d = pd.DataFrame(columns=(['Name', \"Rating\", \"Year\", \"Votes\", \"Gross\", \"Summary\"]+FORMATTED))\n",
    "html = requests.get(\"https://www.imdb.com/search/title?title_type=feature&release_date=2014-01-01,&num_votes=1,&countries=us&count=250&sort=release_date,asc\").text\n",
    "(df, link) = (parse_page(html, d))\n",
    "print(link)\n",
    "df.head(1)"
   ]
  },
  {
   "cell_type": "markdown",
   "metadata": {},
   "source": [
    "Then we followed the \"next page\" one the search results to crawl all the data.\n",
    "During this process, we observed that there is a weird behavior of IMDb. It only gives us 10,000 films from a query in advanced search. So we separated our call into 3 to get the data."
   ]
  },
  {
   "cell_type": "code",
   "execution_count": 5,
   "metadata": {},
   "outputs": [],
   "source": [
    "# the function that get the html text all related to one link.\n",
    "def parseAllAfter1950(url, fileName):\n",
    "    df = pd.DataFrame(columns=(['Name', \"Rating\", \"Year\", \"Votes\", \"Gross\", \"Summary\"] + FORMATTED))\n",
    "    while(url):\n",
    "        html = requests.get(url).text\n",
    "        try:\n",
    "            (df, url) = parse_page(html, df)\n",
    "        except:\n",
    "            print(url)\n",
    "        sleep(0.2)\n",
    "    # save to a pickle for future use\n",
    "    df.to_pickle(fileName)\n",
    "    \n",
    "# link = \"http://www.imdb.com/search/title?title_type=feature&release_date=1950-01-01,&num_votes=1,&countries=us&sort=release_date,asc\"\n",
    "# link2 = \"http://www.imdb.com/search/title?title_type=feature&release_date=1985-10-04,&num_votes=1,&countries=us&sort=release_date,asc\"\n",
    "# link3 = \"http://www.imdb.com/search/title?title_type=feature&release_date=2001-01-01,&num_votes=1,&countries=us&count=250&sort=release_date,asc\""
   ]
  },
  {
   "cell_type": "markdown",
   "metadata": {},
   "source": [
    "After scraping, we concatenated the dataframes together to get a complete data set. We got about __30,000__ observations."
   ]
  },
  {
   "cell_type": "code",
   "execution_count": 6,
   "metadata": {},
   "outputs": [
    {
     "data": {
      "text/plain": [
       "(29947, 32)"
      ]
     },
     "execution_count": 6,
     "metadata": {},
     "output_type": "execute_result"
    }
   ],
   "source": [
    "df1 = pd.read_pickle(\"mov-1.pkl\")\n",
    "df2 = pd.read_pickle(\"mov-2.pkl\")\n",
    "df3 = pd.read_pickle(\"mov-3.pkl\")\n",
    "movie_df = pd.concat([df1,df2, df3]).drop_duplicates().reset_index(drop=True)\n",
    "movie_df.shape"
   ]
  },
  {
   "cell_type": "markdown",
   "metadata": {},
   "source": [
    "### Cleaning"
   ]
  },
  {
   "cell_type": "markdown",
   "metadata": {},
   "source": [
    "We only need data to last decade, so we first got rid of the useless data."
   ]
  },
  {
   "cell_type": "code",
   "execution_count": 7,
   "metadata": {},
   "outputs": [],
   "source": [
    "movie_df = movie_df[movie_df['Year'] <= 2010]"
   ]
  },
  {
   "cell_type": "markdown",
   "metadata": {},
   "source": [
    "Then we observed that some genres only have very few movie instances. This is problematic for our future processing so we removed those genres."
   ]
  },
  {
   "cell_type": "code",
   "execution_count": 8,
   "metadata": {
    "scrolled": true
   },
   "outputs": [],
   "source": [
    "#remove genres\n",
    "generes = movie_df.columns[6:]\n",
    "genre_count = movie_df.iloc[:,6:].sum()\n",
    "genres_to_remove= movie_df.iloc[:,6:].columns[(genre_count < 200)]\n",
    "try:\n",
    "    movie_df = movie_df.drop(genres_to_remove, axis = 1)\n",
    "except:\n",
    "    pass"
   ]
  },
  {
   "cell_type": "markdown",
   "metadata": {},
   "source": [
    "The last step we did to the data frame is to process the gross column (which was text in the format \"$1.5M\" into numbers that can be used."
   ]
  },
  {
   "cell_type": "code",
   "execution_count": 9,
   "metadata": {},
   "outputs": [],
   "source": [
    "def parse_gross(s):    \n",
    "    try:\n",
    "        if (s[-1]==\"M\"):\n",
    "            return (float(s[1:-1]))\n",
    "    except:\n",
    "        return np.nan    \n",
    "movie_df[\"Gross\"] = movie_df[\"Gross\"].apply(parse_gross)"
   ]
  },
  {
   "cell_type": "markdown",
   "metadata": {},
   "source": [
    "By now, we have got a movie_df data frame that contains all the information we may use to analyze."
   ]
  },
  {
   "cell_type": "code",
   "execution_count": 10,
   "metadata": {},
   "outputs": [
    {
     "data": {
      "text/html": [
       "<div>\n",
       "<style scoped>\n",
       "    .dataframe tbody tr th:only-of-type {\n",
       "        vertical-align: middle;\n",
       "    }\n",
       "\n",
       "    .dataframe tbody tr th {\n",
       "        vertical-align: top;\n",
       "    }\n",
       "\n",
       "    .dataframe thead th {\n",
       "        text-align: right;\n",
       "    }\n",
       "</style>\n",
       "<table border=\"1\" class=\"dataframe\">\n",
       "  <thead>\n",
       "    <tr style=\"text-align: right;\">\n",
       "      <th></th>\n",
       "      <th>Name</th>\n",
       "      <th>Rating</th>\n",
       "      <th>Year</th>\n",
       "      <th>Votes</th>\n",
       "      <th>Gross</th>\n",
       "      <th>Summary</th>\n",
       "      <th>Genre_Action</th>\n",
       "      <th>Genre_Adventure</th>\n",
       "      <th>Genre_Animation</th>\n",
       "      <th>Genre_Biography</th>\n",
       "      <th>...</th>\n",
       "      <th>Genre_Horror</th>\n",
       "      <th>Genre_Music</th>\n",
       "      <th>Genre_Musical</th>\n",
       "      <th>Genre_Mystery</th>\n",
       "      <th>Genre_Romance</th>\n",
       "      <th>Genre_Sci-Fi</th>\n",
       "      <th>Genre_Sport</th>\n",
       "      <th>Genre_Thriller</th>\n",
       "      <th>Genre_War</th>\n",
       "      <th>Genre_Western</th>\n",
       "    </tr>\n",
       "  </thead>\n",
       "  <tbody>\n",
       "    <tr>\n",
       "      <th>0</th>\n",
       "      <td>The Flying Saucer</td>\n",
       "      <td>3.8</td>\n",
       "      <td>1950</td>\n",
       "      <td>301</td>\n",
       "      <td>NaN</td>\n",
       "      <td>Both the CIA and KGB investigate UFOs in Alask...</td>\n",
       "      <td>0</td>\n",
       "      <td>0</td>\n",
       "      <td>0</td>\n",
       "      <td>0</td>\n",
       "      <td>...</td>\n",
       "      <td>0</td>\n",
       "      <td>0</td>\n",
       "      <td>0</td>\n",
       "      <td>0</td>\n",
       "      <td>0</td>\n",
       "      <td>1</td>\n",
       "      <td>0</td>\n",
       "      <td>1</td>\n",
       "      <td>0</td>\n",
       "      <td>0</td>\n",
       "    </tr>\n",
       "    <tr>\n",
       "      <th>1</th>\n",
       "      <td>The File on Thelma Jordon</td>\n",
       "      <td>7.0</td>\n",
       "      <td>1950</td>\n",
       "      <td>1523</td>\n",
       "      <td>NaN</td>\n",
       "      <td>Assistant district attorney Cleve Marshall fal...</td>\n",
       "      <td>0</td>\n",
       "      <td>0</td>\n",
       "      <td>0</td>\n",
       "      <td>0</td>\n",
       "      <td>...</td>\n",
       "      <td>0</td>\n",
       "      <td>0</td>\n",
       "      <td>0</td>\n",
       "      <td>0</td>\n",
       "      <td>0</td>\n",
       "      <td>0</td>\n",
       "      <td>0</td>\n",
       "      <td>0</td>\n",
       "      <td>0</td>\n",
       "      <td>0</td>\n",
       "    </tr>\n",
       "    <tr>\n",
       "      <th>2</th>\n",
       "      <td>The Traveling Saleswoman</td>\n",
       "      <td>6.3</td>\n",
       "      <td>1950</td>\n",
       "      <td>25</td>\n",
       "      <td>NaN</td>\n",
       "      <td>In this western comedy, the King Soap Company ...</td>\n",
       "      <td>1</td>\n",
       "      <td>0</td>\n",
       "      <td>0</td>\n",
       "      <td>0</td>\n",
       "      <td>...</td>\n",
       "      <td>0</td>\n",
       "      <td>1</td>\n",
       "      <td>0</td>\n",
       "      <td>0</td>\n",
       "      <td>0</td>\n",
       "      <td>0</td>\n",
       "      <td>0</td>\n",
       "      <td>0</td>\n",
       "      <td>0</td>\n",
       "      <td>0</td>\n",
       "    </tr>\n",
       "    <tr>\n",
       "      <th>3</th>\n",
       "      <td>Davy Crockett, Indian Scout</td>\n",
       "      <td>5.5</td>\n",
       "      <td>1950</td>\n",
       "      <td>191</td>\n",
       "      <td>NaN</td>\n",
       "      <td>Davy Crockett (not the famous Alamo hero, but ...</td>\n",
       "      <td>0</td>\n",
       "      <td>1</td>\n",
       "      <td>0</td>\n",
       "      <td>0</td>\n",
       "      <td>...</td>\n",
       "      <td>0</td>\n",
       "      <td>0</td>\n",
       "      <td>0</td>\n",
       "      <td>0</td>\n",
       "      <td>0</td>\n",
       "      <td>0</td>\n",
       "      <td>0</td>\n",
       "      <td>0</td>\n",
       "      <td>0</td>\n",
       "      <td>1</td>\n",
       "    </tr>\n",
       "    <tr>\n",
       "      <th>4</th>\n",
       "      <td>Cry Murder</td>\n",
       "      <td>5.8</td>\n",
       "      <td>1950</td>\n",
       "      <td>6</td>\n",
       "      <td>NaN</td>\n",
       "      <td>A young actress has retired from films to marr...</td>\n",
       "      <td>0</td>\n",
       "      <td>0</td>\n",
       "      <td>0</td>\n",
       "      <td>0</td>\n",
       "      <td>...</td>\n",
       "      <td>0</td>\n",
       "      <td>0</td>\n",
       "      <td>0</td>\n",
       "      <td>1</td>\n",
       "      <td>0</td>\n",
       "      <td>0</td>\n",
       "      <td>0</td>\n",
       "      <td>0</td>\n",
       "      <td>0</td>\n",
       "      <td>0</td>\n",
       "    </tr>\n",
       "  </tbody>\n",
       "</table>\n",
       "<p>5 rows × 27 columns</p>\n",
       "</div>"
      ],
      "text/plain": [
       "                          Name  Rating  Year Votes  Gross  \\\n",
       "0            The Flying Saucer     3.8  1950   301    NaN   \n",
       "1    The File on Thelma Jordon     7.0  1950  1523    NaN   \n",
       "2     The Traveling Saleswoman     6.3  1950    25    NaN   \n",
       "3  Davy Crockett, Indian Scout     5.5  1950   191    NaN   \n",
       "4                   Cry Murder     5.8  1950     6    NaN   \n",
       "\n",
       "                                             Summary Genre_Action  \\\n",
       "0  Both the CIA and KGB investigate UFOs in Alask...            0   \n",
       "1  Assistant district attorney Cleve Marshall fal...            0   \n",
       "2  In this western comedy, the King Soap Company ...            1   \n",
       "3  Davy Crockett (not the famous Alamo hero, but ...            0   \n",
       "4  A young actress has retired from films to marr...            0   \n",
       "\n",
       "  Genre_Adventure Genre_Animation Genre_Biography      ...      Genre_Horror  \\\n",
       "0               0               0               0      ...                 0   \n",
       "1               0               0               0      ...                 0   \n",
       "2               0               0               0      ...                 0   \n",
       "3               1               0               0      ...                 0   \n",
       "4               0               0               0      ...                 0   \n",
       "\n",
       "  Genre_Music Genre_Musical Genre_Mystery Genre_Romance Genre_Sci-Fi  \\\n",
       "0           0             0             0             0            1   \n",
       "1           0             0             0             0            0   \n",
       "2           1             0             0             0            0   \n",
       "3           0             0             0             0            0   \n",
       "4           0             0             1             0            0   \n",
       "\n",
       "  Genre_Sport Genre_Thriller Genre_War Genre_Western  \n",
       "0           0              1         0             0  \n",
       "1           0              0         0             0  \n",
       "2           0              0         0             0  \n",
       "3           0              0         0             1  \n",
       "4           0              0         0             0  \n",
       "\n",
       "[5 rows x 27 columns]"
      ]
     },
     "execution_count": 10,
     "metadata": {},
     "output_type": "execute_result"
    }
   ],
   "source": [
    "movie_df.head()"
   ]
  },
  {
   "cell_type": "markdown",
   "metadata": {},
   "source": [
    "## Score Calculation"
   ]
  },
  {
   "cell_type": "markdown",
   "metadata": {},
   "source": [
    "### Definition of movie score\n",
    "It is biased to merely investigate into either movie rating or movie number of votes to find popular and successful movies. Therefore, we introduce the formula from [IMDb](https://help.imdb.com/article/imdb/featured-content/why-doesn-t-a-title-with-the-average-user-vote-of-9-4-appear-in-your-top-250-movies-or-tv-list/GTU67Q5QQ8W53RJT?pf_rd_m=A2FGELUUNOQJNL&pf_rd_p=e31d89dd-322d-4646-8962-327b42fe94b1&pf_rd_r=T4PZFWW3YAJD79YH14HS&pf_rd_s=center-1&pf_rd_t=15506&pf_rd_i=top&ref_=cons_chttp_learnmore#) to get the combined values. \n",
    "\n",
    "The formula gives a true Bayesian estimate: weighted rating (WR) = (v ÷ (v+m)) × R + (m ÷ (v+m)) × C Where:\n",
    " - R = rating for the movie = (Rating)\n",
    " - v = number of votes for the movie = (votes)\n",
    " - m = the threshold of the number of vote for a movie to be considered as popular(we pick m as the first quantile for number of votes)\n",
    " - C = the mean ratings of all movies\n",
    "\n",
    "The following true_bayesian_estimate_1 returns the scores for all rows in the dataframe, and true_bayesian_estimate calculate the average scores for every genre movie in the dataframe. "
   ]
  },
  {
   "cell_type": "code",
   "execution_count": 11,
   "metadata": {},
   "outputs": [],
   "source": [
    "def get_values(df):\n",
    "    v = []\n",
    "    R = []\n",
    "    # loop through genres\n",
    "    for genre in df.columns[6:-1]:\n",
    "        v1 = sum(df[df[genre] == 1]['Votes'])\n",
    "        r1 = np.mean(df[df[genre] == 1]['Rating'])\n",
    "        R.append(r1)\n",
    "        v.append(v1)\n",
    "    m = np.mean(df['Votes'])\n",
    "    C = np.mean(df['Rating'])\n",
    "    return np.asarray(R), np.asarray(v), m, C\n",
    "\n",
    "def true_bayesian_estimate(df):\n",
    "    '''\n",
    "        df: movie data frame\n",
    "        return: the scores for each genre movie average score in the dataframe(the movie)\n",
    "    '''\n",
    "    R, v, m, C = get_values(df)\n",
    "    return (v/(v+m))*R + (m/(v+m))*C\n",
    "\n",
    "def true_bayesian_estimate_1(df):\n",
    "    '''\n",
    "        df: movie data frame\n",
    "        return: the scores for each row in the dataframe(the movie)\n",
    "    '''\n",
    "    R = df[\"Rating\"]\n",
    "    v = df[\"Votes\"]\n",
    "    m = v.quantile([.25, .5, .75])[0.25] #the first quantile for number of votes\n",
    "    C = (R).mean()\n",
    "    return (v/(v+m))*R + (m/(v+m))*C"
   ]
  },
  {
   "cell_type": "markdown",
   "metadata": {},
   "source": [
    "### Add Scores to the Data Frame\n",
    "We call our movie scores as \"Score\" in the dataframe"
   ]
  },
  {
   "cell_type": "code",
   "execution_count": 12,
   "metadata": {},
   "outputs": [],
   "source": [
    "ps = true_bayesian_estimate_1(movie_df)\n",
    "ps = np.nan_to_num(ps)\n",
    "movie_df = movie_df.assign(Score = pd.Series(ps).values.astype(\"float\"))"
   ]
  },
  {
   "cell_type": "markdown",
   "metadata": {},
   "source": [
    "### Split Data into Decades\n",
    "We partitioned the data into decades since we decide to investigate the movie market changes for each 10 years from 1950 to 2010. dfs is a list of partitioned dataframes. "
   ]
  },
  {
   "cell_type": "code",
   "execution_count": 13,
   "metadata": {},
   "outputs": [],
   "source": [
    "dfs = []\n",
    "years = list(range(1950, 2000, 10))\n",
    "for start in range(1950, 2010, 10):\n",
    "    dfs.append(movie_df[np.logical_and(movie_df['Year'] >= start, movie_df['Year'] < (start + 10))])"
   ]
  },
  {
   "cell_type": "markdown",
   "metadata": {},
   "source": [
    "### Score Distribution\n",
    "We found the scores centered around 5 and 6. We also found that the normal curve fits the true distribution well."
   ]
  },
  {
   "cell_type": "code",
   "execution_count": 14,
   "metadata": {},
   "outputs": [
    {
     "data": {
      "image/png": "[encoded data removed]",
      "text/plain": [
       "<matplotlib.figure.Figure at 0x1e7eb7abcf8>"
      ]
     },
     "metadata": {},
     "output_type": "display_data"
    }
   ],
   "source": [
    "r = movie_df['Score']\n",
    "r.plot(kind='hist',histtype = 'bar', align = \"left\",rwidth = 0.5,bins=[i*0.5 for i in range(23)], normed = True)\n",
    "x = np.linspace(r.min(), r.max(), r.shape[0])\n",
    "rv = norm(loc = np.mean(r), scale = np.std(r))\n",
    "plt.plot(x, rv.pdf(x), 'r-', lw=5, alpha=0.6, label='norm pdf')\n",
    "plt.show()\n"
   ]
  },
  {
   "cell_type": "markdown",
   "metadata": {},
   "source": [
    "## Film Genres as a Feature\n",
    "### How Scores Vary Across Genres\n",
    "We first explored the relationship between genres and score, using bar graph.\n",
    "The top four categories are ['Biography', 'History', 'Film-Noir', 'Animation']\n"
   ]
  },
  {
   "cell_type": "code",
   "execution_count": 15,
   "metadata": {
    "scrolled": false
   },
   "outputs": [
    {
     "data": {
      "image/png": "[encoded data removed]",
      "text/plain": [
       "<matplotlib.figure.Figure at 0x1e7ebf03550>"
      ]
     },
     "metadata": {},
     "output_type": "display_data"
    },
    {
     "data": {
      "text/plain": [
       "['Biography', 'History', 'Film-Noir', 'Animation']"
      ]
     },
     "execution_count": 15,
     "metadata": {},
     "output_type": "execute_result"
    },
    {
     "data": {
      "text/plain": [
       "<matplotlib.figure.Figure at 0x1e7ec979b00>"
      ]
     },
     "metadata": {},
     "output_type": "display_data"
    }
   ],
   "source": [
    "y = true_bayesian_estimate(movie_df)\n",
    "font = {'family' : 'Arial',\n",
    "        'size'   : 12}\n",
    "matplotlib.rc('font', **font)\n",
    "labels = list(movie_df.columns[6:-1])\n",
    "labels = [x.replace('Genre_','') for x in labels]\n",
    "y = np.nan_to_num(y)\n",
    "plt.barh(labels, y)\n",
    "plt.xlabel('IMDb Score')\n",
    "plt.title(\"IMDb score of each genre\")\n",
    "plt.show()\n",
    "plt.savefig('scorevsgenre.png')\n",
    "indx = (-y).argsort()[:4]\n",
    "top_genres = [labels[i] for i in indx ]\n",
    "top_genres"
   ]
  },
  {
   "cell_type": "markdown",
   "metadata": {},
   "source": [
    "### Hypothesis Testing\n",
    "\n",
    "We want to make sure that there is actually a difference between these top genres and other genres.  \n",
    " $H_0: \\mu_1 = \\mu_2$ There is no difference in scores between each one of the top genres and the other genres  \n",
    " $H_a: \\mu_1 > \\mu_2$ The top genres have higher scores\n",
    " \n",
    "Note: $\\mu_1$ is the score under each genre in the top genres, and $\\mu_2$ is the scores of other genres\n",
    "\n",
    "We got our p-values for each group less than 0.05. With these statistically significant small p-values, we conclude that those top genres have higher scores."
   ]
  },
  {
   "cell_type": "code",
   "execution_count": 16,
   "metadata": {
    "scrolled": false
   },
   "outputs": [
    {
     "name": "stdout",
     "output_type": "stream",
     "text": [
      "Biography p-value: 6.138597461894906e-98\n",
      "History p-value: 1.3152522452700892e-53\n",
      "Film-Noir p-value: 7.615937248872615e-46\n",
      "Animation p-value: 1.106686845157151e-32\n"
     ]
    }
   ],
   "source": [
    "for i in range(len(top_genres)):\n",
    "    a = movie_df[movie_df[''.join(['Genre_' ,top_genres[i]])] == 1][\"Score\"]\n",
    "    b = movie_df[movie_df[''.join(['Genre_' ,top_genres[i]])] == 0][\"Score\"]\n",
    "    t2, p2 = st.ttest_ind(a,b)\n",
    "    print(top_genres[i] + \" p-value: \" + str(p2))\n"
   ]
  },
  {
   "cell_type": "markdown",
   "metadata": {},
   "source": [
    "We also investigated which genres have lowest average scores:"
   ]
  },
  {
   "cell_type": "code",
   "execution_count": 18,
   "metadata": {},
   "outputs": [
    {
     "data": {
      "text/plain": [
       "['Horror', 'Sci-Fi', 'Action', 'Thriller']"
      ]
     },
     "execution_count": 18,
     "metadata": {},
     "output_type": "execute_result"
    }
   ],
   "source": [
    "indx1 = (y).argsort()[:4]\n",
    "worst_genres = [labels[i] for i in indx1 ]\n",
    "worst_genres"
   ]
  },
  {
   "cell_type": "markdown",
   "metadata": {},
   "source": [
    "### Genre Score over Years Visualization\n",
    "Since we have those assumptions validated above, it is possible to get a clearer idea of top genres over the decades using a heatmap. We plotted a heatmap to view the average ratings of different genres in all decades.\n",
    "The horizontal axis is the movie genre, the vertical axis is the decades and lighter cells indicate higher average scores."
   ]
  },
  {
   "cell_type": "code",
   "execution_count": 19,
   "metadata": {
    "scrolled": false
   },
   "outputs": [
    {
     "data": {
      "image/png": "[encoded data removed]",
      "text/plain": [
       "<matplotlib.figure.Figure at 0x1e7ebbeeac8>"
      ]
     },
     "metadata": {},
     "output_type": "display_data"
    }
   ],
   "source": [
    "import seaborn as sns; sns.set()\n",
    "fig=plt.figure(figsize=(8, 8), dpi= 80, facecolor='w', edgecolor='k')\n",
    "\n",
    "all_years = pd.DataFrame(columns = [ col.split(\"_\")[1] for col in movie_df.columns[6:-1]])\n",
    "for i in range(6):\n",
    "    df = dfs[i]\n",
    "    y = true_bayesian_estimate(df)\n",
    "    y = np.nan_to_num(y)\n",
    "    all_years.loc[i] = y\n",
    "all_years.index = [str(start)+\"s\" for start in range(1950, 2010, 10)]\n",
    "ax = sns.heatmap(all_years)"
   ]
  },
  {
   "cell_type": "markdown",
   "metadata": {},
   "source": [
    "From the plot we can observe that the \"Film-Noir\" column looks very abnormal. Therefore we further explored the reason why a lot of values for \"Film-Noir\" is missing. We searched the wikipedia entry of [Film-Noir](https://en.wikipedia.org/wiki/Film_noir)\n",
    ">Film noir (/fɪlm nwɑːr/; French pronunciation: ​[film nwaʁ]) is a cinematic term used primarily to describe stylish Hollywood crime dramas, particularly those which emphasize cynical attitudes and sexual motivations. Hollywood's classical film noir period is generally regarded as extending from the early 1940s to the late 1950s. \n",
    "\n",
    "Voila! We see that this genre of film only last to late 1950s, and that explains why the values are missing.\n",
    "To better understand the trends of the other genres, we plotted a new heatmap with that genre excluded."
   ]
  },
  {
   "cell_type": "code",
   "execution_count": 20,
   "metadata": {},
   "outputs": [
    {
     "data": {
      "image/png": "[encoded data removed]",
      "text/plain": [
       "<matplotlib.figure.Figure at 0x1e7ebd60e80>"
      ]
     },
     "metadata": {},
     "output_type": "display_data"
    }
   ],
   "source": [
    "fig=plt.figure(figsize=(8,8), dpi= 80, facecolor='w', edgecolor='k')\n",
    "all_years_without_fn = all_years.drop([\"Film-Noir\"], axis = 1)\n",
    "ax = sns.heatmap(all_years_without_fn)"
   ]
  },
  {
   "cell_type": "markdown",
   "metadata": {},
   "source": [
    "From the plot above we can see that there are certain trends. Action, Western movies are becoming more and more poorly-rated and the Biography and History categories are becoming more and more highly-rated. It also shows us that horror films and Sci-Fi films have low scores almost in all decades."
   ]
  },
  {
   "cell_type": "markdown",
   "metadata": {},
   "source": [
    "## Release Years as a Feature\n",
    "Another variable might relate to the scores is the release years.\n",
    "Below are the boxplots over six decades shows that there are some variations in scores over years. "
   ]
  },
  {
   "cell_type": "code",
   "execution_count": 21,
   "metadata": {},
   "outputs": [
    {
     "data": {
      "image/png": "[encoded data removed]",
      "text/plain": [
       "<matplotlib.figure.Figure at 0x1e7edb2d390>"
      ]
     },
     "metadata": {},
     "output_type": "display_data"
    }
   ],
   "source": [
    "data = []\n",
    "all_years = [str(start)+\"s\"  for start in range(1950, 2010, 10)]\n",
    "for i in range(len(dfs)):\n",
    "    data.append(list(dfs[i]['Score']))\n",
    "plt.boxplot(data, patch_artist=True)\n",
    "plt.xticks(range(1,len(all_years)+1), all_years)\n",
    "\n",
    "plt.show()"
   ]
  },
  {
   "cell_type": "markdown",
   "metadata": {},
   "source": [
    "### Time Series Analysis"
   ]
  },
  {
   "cell_type": "markdown",
   "metadata": {},
   "source": [
    "The plots above also shows that the year is probably related to the scores. So we made a further investigation on the effect of years on the scores. We performed a __Time Series__ Analysis. \n",
    "To find the trend of the gross over years, we applied the __sliding average__ on this time series data to smooth out short-term flucatuations and find the longer-term trend. (the slidingaverage code is from our homework submission)"
   ]
  },
  {
   "cell_type": "code",
   "execution_count": 22,
   "metadata": {},
   "outputs": [],
   "source": [
    "# the class used to compute the sliding averages\n",
    "class SlidingAverage:\n",
    "    def __init__(self,k):\n",
    "        \"\"\" Initializes a sliding average calculator which keeps track of the average of the last k seen elements. \n",
    "        \n",
    "        Args: \n",
    "            k (int): the number of elements to average (the half-width of the sliding average window)\n",
    "        \"\"\"\n",
    "        self.k = k\n",
    "        self.s = deque(maxlen = 2*k + 1)\n",
    "        self.s.extend([None] * k)\n",
    "        self.sum = 0.0\n",
    "        self.num = 0.0\n",
    "        \n",
    "    def update(self,x):\n",
    "        \"\"\" Computes the sliding average after having seen element x \n",
    "        \n",
    "        Args:\n",
    "            x (float): the next element in the stream to view\n",
    "            \n",
    "        Returns: \n",
    "            (float): the new sliding average after having seen element x, if it can be calculated\n",
    "        \"\"\"\n",
    "        self.s.append(x)\n",
    "        if x is not None:\n",
    "            self.sum = self.sum + x\n",
    "            self.num = self.num + 1\n",
    "        if len(self.s) == 2*(self.k) + 1:\n",
    "            slidingavg = self.sum/(self.num)\n",
    "            if (not (self.s[0] is None)):\n",
    "                self.num = self.num - 1\n",
    "                self.sum = self.sum - self.s[0]\n",
    "\n",
    "            return slidingavg\n",
    "        return None\n",
    "    \n",
    "\n",
    "def compute_sliding_averages(s, k):\n",
    "    \"\"\" Computes the sliding averages for a given Pandas series using the SlidingAverage class. \n",
    "    \n",
    "    Args:\n",
    "        s (pd.Series): a Pandas series for which the sliding average needs to be calculated\n",
    "        k (int): the half-width of the sliding average window \n",
    "        \n",
    "    Returns:\n",
    "        (pd.Series): a Pandas series of the sliding averages\n",
    "    \n",
    "    \"\"\"\n",
    "    if k == 0:\n",
    "        return s\n",
    "    sa = SlidingAverage(k)\n",
    "    s1 = pd.Series()\n",
    "    snew = [val for val in map(sa.update, s) if val is not None]  \n",
    "    snew.extend([val for val in map(sa.update, [None]*k) if val is not None])\n",
    "    s1 = s1.append(pd.Series(snew))\n",
    "    return s1"
   ]
  },
  {
   "cell_type": "markdown",
   "metadata": {},
   "source": [
    "### Score and Years\n",
    "We first plotted the scores against the year released."
   ]
  },
  {
   "cell_type": "code",
   "execution_count": 23,
   "metadata": {},
   "outputs": [
    {
     "data": {
      "image/png": "[encoded data removed]",
      "text/plain": [
       "<matplotlib.figure.Figure at 0x1e7edb5f278>"
      ]
     },
     "metadata": {},
     "output_type": "display_data"
    }
   ],
   "source": [
    "fig=plt.figure(figsize=(7, 7), dpi= 80, facecolor='w', edgecolor='k')\n",
    "\n",
    "pop_y = movie_df.groupby(['Year'])['Score'].mean()\n",
    "pop_y_slide_average = compute_sliding_averages(pd.Series(pop_y),5)\n",
    "plt.plot(range(1950, 2010), pop_y_slide_average)\n",
    "plt.xlabel(\"Year\")\n",
    "plt.ylabel(\"Score\")\n",
    "plt.title(\"IMDb scores vs release year\")\n",
    "\n",
    "plt.show()"
   ]
  },
  {
   "cell_type": "markdown",
   "metadata": {},
   "source": [
    "From the plot above, we observed that there is a significant drop around the 1980s and 1990s. Is the trend also evident in other metrics?"
   ]
  },
  {
   "cell_type": "markdown",
   "metadata": {},
   "source": [
    "### Gross and Years\n",
    "Below is a plot of Gross against years."
   ]
  },
  {
   "cell_type": "code",
   "execution_count": 24,
   "metadata": {
    "scrolled": false
   },
   "outputs": [
    {
     "data": {
      "image/png": "[encoded data removed]",
      "text/plain": [
       "<matplotlib.figure.Figure at 0x1e7eee3d438>"
      ]
     },
     "metadata": {},
     "output_type": "display_data"
    }
   ],
   "source": [
    "subdf = movie_df.dropna()\n",
    "fig=plt.figure(figsize=(7, 7), dpi= 80, facecolor='w', edgecolor='k')\n",
    "gross_y = subdf.groupby(['Year'])['Gross'].mean()\n",
    "gross_y_slide_average = compute_sliding_averages(pd.Series(gross_y),5)\n",
    "plt.plot(range(1950, 2010), gross_y_slide_average)\n",
    "plt.xlabel(\"Year\")\n",
    "plt.ylabel(\"Gross\")\n",
    "plt.title(\"Gross vs release year\")\n",
    "plt.show()"
   ]
  },
  {
   "cell_type": "markdown",
   "metadata": {},
   "source": [
    "Not surprising, there is also a significant drop in the average gross as in the scores trend. This makes us wonder: What can be the reason behind this drop?   \n",
    "We presumed that it may be possible that is a boom in the movie market around 1980s and 1990s, and the quality of movie dropped of the lowered standard. "
   ]
  },
  {
   "cell_type": "markdown",
   "metadata": {},
   "source": [
    "### Movie Count and Years\n",
    "We tried to plot the trend of the movie count of years."
   ]
  },
  {
   "cell_type": "code",
   "execution_count": 25,
   "metadata": {
    "scrolled": false
   },
   "outputs": [
    {
     "data": {
      "image/png": "[encoded data removed]",
      "text/plain": [
       "<matplotlib.figure.Figure at 0x1e7eee73a20>"
      ]
     },
     "metadata": {},
     "output_type": "display_data"
    }
   ],
   "source": [
    "fig=plt.figure(figsize=(7, 7), dpi= 80, facecolor='w', edgecolor='k')\n",
    "\n",
    "count_y = movie_df.groupby(['Year'])['Name'].count()\n",
    "count_y_slide_average = compute_sliding_averages(pd.Series(count_y),5)\n",
    "plt.plot(range(1950, 2010), count_y_slide_average)\n",
    "plt.xlabel(\"Year\")\n",
    "plt.ylabel(\"Movie count\")\n",
    "plt.title(\"Movie count vs release year\")\n",
    "\n",
    "plt.show()"
   ]
  },
  {
   "cell_type": "markdown",
   "metadata": {},
   "source": [
    "From the plot above, it is clear that the count of movie produced a year started to drastically increase at around 1980s. This trend supports our presumption above. There may also be some other reasons, we can further investigate on that in the future."
   ]
  },
  {
   "cell_type": "markdown",
   "metadata": {},
   "source": [
    "## Linear Regression\n",
    "### Relationship Between Gross and Score\n",
    "Before we run linear regression on the Score over Gross, we first made a scatter plot and check if there is any relationship. The graph below indicated there might be a positive relationship. "
   ]
  },
  {
   "cell_type": "code",
   "execution_count": 26,
   "metadata": {
    "scrolled": false
   },
   "outputs": [
    {
     "data": {
      "image/png": "[encoded data removed]",
      "text/plain": [
       "<matplotlib.figure.Figure at 0x1e7ebbc32b0>"
      ]
     },
     "metadata": {},
     "output_type": "display_data"
    }
   ],
   "source": [
    "plt.scatter(movie_df[\"Gross\"].values.reshape(-1, 1), movie_df[\"Score\"])\n",
    "plt.xlabel(\"Gross\")\n",
    "plt.ylabel(\"Score\")\n",
    "plt.show()"
   ]
  },
  {
   "cell_type": "markdown",
   "metadata": {},
   "source": [
    "We will ran the linear regression model using sklearn with the model below:  \n",
    "$Score = \\beta_1*Gross + \\beta_0 + \\epsilon$  \n",
    "P-value for $\\beta_1$ is significantly small so we conclude that there is a positive linear relationship between score and gross. However, the R-squared is small, which means that the variability in the score cannot only be explained by the variation of the gross."
   ]
  },
  {
   "cell_type": "code",
   "execution_count": 27,
   "metadata": {},
   "outputs": [
    {
     "name": "stdout",
     "output_type": "stream",
     "text": [
      "Residuals:\n",
      "Min      1Q  Median      3Q     Max\n",
      "-3.0947 -0.6668 -0.0789  0.5754  4.2275\n",
      "\n",
      "\n",
      "Coefficients:\n",
      "            Estimate  Std. Error   t value  p value\n",
      "_intercept  6.046672    0.013440  449.8876      0.0\n",
      "x1          0.005595    0.000228   24.4941      0.0\n",
      "---\n",
      "R-squared:  0.06141,    Adjusted R-squared:  0.06128\n",
      "F-statistic: 460.50 on 1 features\n"
     ]
    }
   ],
   "source": [
    "from regressors import stats\n",
    "from sklearn.linear_model import LinearRegression\n",
    "lm = LinearRegression(fit_intercept=True, normalize=False)  \n",
    "subdf = movie_df.dropna()\n",
    "X = np.asarray(subdf[\"Gross\"]).reshape(-1,1)\n",
    "y = np.asarray(subdf[\"Score\"])\n",
    "lm.fit(X, y)\n",
    "stats.summary(lm, X, y)"
   ]
  },
  {
   "cell_type": "markdown",
   "metadata": {},
   "source": [
    "### Linear Regression on All Three Features Combined\n",
    "Therefore, we want to include more variables. Based on our analysis above, genre, gross, and year all relate to the score.  \n",
    "Then, we run the linear regression on all these features:   \n",
    "$\\mathrm{Score} = \\beta_0 + \\beta_{1}  \\mathrm{Year} \n",
    "    + \\beta_{2}  \\mathrm{Action}   \n",
    "    + \\beta_{3}  \\mathrm{Adventure} +   \\mathrm{...} \n",
    "    + \\beta_{21}  \\mathrm{War} \n",
    "    + \\beta_{22}  \\mathrm{Gross}  + \\epsilon$"
   ]
  },
  {
   "cell_type": "code",
   "execution_count": 28,
   "metadata": {
    "scrolled": false
   },
   "outputs": [
    {
     "name": "stdout",
     "output_type": "stream",
     "text": [
      "Residuals:\n",
      "Min      1Q  Median      3Q     Max\n",
      "-2.599 -0.5956 -0.0641  0.5022  4.2368\n",
      "\n",
      "\n",
      "Coefficients:\n",
      "             Estimate  Std. Error    t value   p value\n",
      "_intercept  31.275867    1.867628    16.7463  0.000000\n",
      "x1          -0.012717    0.000006 -2203.4946  0.000000\n",
      "x2          -0.390765    0.031595   -12.3680  0.000000\n",
      "x3          -0.041779    0.035402    -1.1801  0.237987\n",
      "x4           0.401758    0.064938     6.1868  0.000000\n",
      "x5           0.419144    0.054839     7.6432  0.000000\n",
      "x6          -0.204573    0.025059    -8.1636  0.000000\n",
      "x7           0.081497    0.029022     2.8081  0.004997\n",
      "x8           0.492132    0.025125    19.5876  0.000000\n",
      "x9          -0.346969    0.043941    -7.8962  0.000000\n",
      "x10         -0.072575    0.044113    -1.6452  0.099972\n",
      "x11          0.653561    0.295087     2.2148  0.026805\n",
      "x12          0.201022    0.073338     2.7410  0.006140\n",
      "x13         -0.347187    0.041517    -8.3626  0.000000\n",
      "x14         -0.103506    0.057903    -1.7876  0.073886\n",
      "x15          0.044605    0.077582     0.5749  0.565352\n",
      "x16          0.049710    0.042653     1.1655  0.243876\n",
      "x17         -0.029329    0.027603    -1.0625  0.288028\n",
      "x18         -0.063132    0.048250    -1.3084  0.190771\n",
      "x19         -0.069323    0.064476    -1.0752  0.282331\n",
      "x20         -0.047218    0.033786    -1.3975  0.162293\n",
      "x21          0.162046    0.078316     2.0691  0.038571\n",
      "x22          0.007355    0.000234    31.4927  0.000000\n",
      "---\n",
      "R-squared:  0.24851,    Adjusted R-squared:  0.24615\n",
      "F-statistic: 105.47 on 22 features\n"
     ]
    }
   ],
   "source": [
    "lm = LinearRegression(fit_intercept=True, normalize=False)  \n",
    "generes = subdf.columns[5:]\n",
    "X1 = np.asarray(subdf.iloc[:,[2]+list(range(6,subdf.shape[1] - 2))+ [4]], dtype='float')\n",
    "y1 = np.asarray(subdf[\"Score\"], dtype='float')\n",
    "lm.fit(X1, y1)\n",
    "stats.summary(lm, X1, y1)"
   ]
  },
  {
   "cell_type": "markdown",
   "metadata": {},
   "source": [
    "The cell below pulls out all the features that are significant (p-value < 0.05). We observe that with same year and gross, people rate Action, Family, Horror lower, but Animation, Biography, Drama, Film-Noir higher. "
   ]
  },
  {
   "cell_type": "code",
   "execution_count": 29,
   "metadata": {
    "scrolled": false
   },
   "outputs": [
    {
     "data": {
      "text/html": [
       "<div>\n",
       "<style scoped>\n",
       "    .dataframe tbody tr th:only-of-type {\n",
       "        vertical-align: middle;\n",
       "    }\n",
       "\n",
       "    .dataframe tbody tr th {\n",
       "        vertical-align: top;\n",
       "    }\n",
       "\n",
       "    .dataframe thead th {\n",
       "        text-align: right;\n",
       "    }\n",
       "</style>\n",
       "<table border=\"1\" class=\"dataframe\">\n",
       "  <thead>\n",
       "    <tr style=\"text-align: right;\">\n",
       "      <th></th>\n",
       "      <th>beta</th>\n",
       "      <th>p-value</th>\n",
       "      <th>variable</th>\n",
       "    </tr>\n",
       "  </thead>\n",
       "  <tbody>\n",
       "    <tr>\n",
       "      <th>0</th>\n",
       "      <td>-0.012717</td>\n",
       "      <td>0.000000e+00</td>\n",
       "      <td>Year</td>\n",
       "    </tr>\n",
       "    <tr>\n",
       "      <th>1</th>\n",
       "      <td>-0.390765</td>\n",
       "      <td>0.000000e+00</td>\n",
       "      <td>Action</td>\n",
       "    </tr>\n",
       "    <tr>\n",
       "      <th>3</th>\n",
       "      <td>0.401758</td>\n",
       "      <td>6.485434e-10</td>\n",
       "      <td>Animation</td>\n",
       "    </tr>\n",
       "    <tr>\n",
       "      <th>4</th>\n",
       "      <td>0.419144</td>\n",
       "      <td>2.398082e-14</td>\n",
       "      <td>Biography</td>\n",
       "    </tr>\n",
       "    <tr>\n",
       "      <th>5</th>\n",
       "      <td>-0.204573</td>\n",
       "      <td>2.220446e-16</td>\n",
       "      <td>Comedy</td>\n",
       "    </tr>\n",
       "    <tr>\n",
       "      <th>6</th>\n",
       "      <td>0.081497</td>\n",
       "      <td>4.996646e-03</td>\n",
       "      <td>Crime</td>\n",
       "    </tr>\n",
       "    <tr>\n",
       "      <th>7</th>\n",
       "      <td>0.492132</td>\n",
       "      <td>0.000000e+00</td>\n",
       "      <td>Drama</td>\n",
       "    </tr>\n",
       "    <tr>\n",
       "      <th>8</th>\n",
       "      <td>-0.346969</td>\n",
       "      <td>3.330669e-15</td>\n",
       "      <td>Family</td>\n",
       "    </tr>\n",
       "    <tr>\n",
       "      <th>10</th>\n",
       "      <td>0.653561</td>\n",
       "      <td>2.680499e-02</td>\n",
       "      <td>Film-Noir</td>\n",
       "    </tr>\n",
       "    <tr>\n",
       "      <th>11</th>\n",
       "      <td>0.201022</td>\n",
       "      <td>6.139865e-03</td>\n",
       "      <td>History</td>\n",
       "    </tr>\n",
       "    <tr>\n",
       "      <th>12</th>\n",
       "      <td>-0.347187</td>\n",
       "      <td>2.220446e-16</td>\n",
       "      <td>Horror</td>\n",
       "    </tr>\n",
       "    <tr>\n",
       "      <th>20</th>\n",
       "      <td>0.162046</td>\n",
       "      <td>3.857134e-02</td>\n",
       "      <td>War</td>\n",
       "    </tr>\n",
       "    <tr>\n",
       "      <th>21</th>\n",
       "      <td>0.007355</td>\n",
       "      <td>0.000000e+00</td>\n",
       "      <td>Gross</td>\n",
       "    </tr>\n",
       "  </tbody>\n",
       "</table>\n",
       "</div>"
      ],
      "text/plain": [
       "        beta       p-value   variable\n",
       "0  -0.012717  0.000000e+00       Year\n",
       "1  -0.390765  0.000000e+00     Action\n",
       "3   0.401758  6.485434e-10  Animation\n",
       "4   0.419144  2.398082e-14  Biography\n",
       "5  -0.204573  2.220446e-16     Comedy\n",
       "6   0.081497  4.996646e-03      Crime\n",
       "7   0.492132  0.000000e+00      Drama\n",
       "8  -0.346969  3.330669e-15     Family\n",
       "10  0.653561  2.680499e-02  Film-Noir\n",
       "11  0.201022  6.139865e-03    History\n",
       "12 -0.347187  2.220446e-16     Horror\n",
       "20  0.162046  3.857134e-02        War\n",
       "21  0.007355  0.000000e+00      Gross"
      ]
     },
     "execution_count": 29,
     "metadata": {},
     "output_type": "execute_result"
    }
   ],
   "source": [
    "coefs = lm.coef_\n",
    "pvals = stats.coef_pval(lm, X1, y1)\n",
    "variable_names = [subdf.columns[2]]+ list(subdf.columns[6:subdf.shape[1] - 2]) + [\"Gross\"]\n",
    "zipped = list(zip(variable_names, coefs, pvals[1:]))\n",
    "important_factors = [ (name, coef, pval) for (name, coef, pval) in zipped ]\n",
    "variable_names = [\"Year\"]+list(map(lambda x: x.split(\"_\")[1], variable_names[1:-1]))+[\"Gross\"]\n",
    "significant_coefs = pd.DataFrame({'variable': variable_names,\n",
    "     'beta': coefs,\n",
    "     'p-value': pvals[1:]\n",
    "    })\n",
    "# important_factors\n",
    "significant_coefs[significant_coefs[\"p-value\"]<=0.05]"
   ]
  },
  {
   "cell_type": "markdown",
   "metadata": {},
   "source": [
    "## Movie Descriptions Text Analysis\n",
    "\n",
    "When people are comparing films to pick the ones they want to see, people take the descriptions of films into account besides the quantitative factors we investigated. So we did an analysis on the movie descriptions to give people an idea on what distinguishes the descriptions of good and bad movies.    \n",
    "We chose to train a __naive bayes classifier__ from the descriptions and reported the most informative word features.  \n",
    "First, we assigned the tags to the films. Movies with less than 4 points will be labeled as poorly scored movies and movies with a score higher than 7 will be highly scored. Labeling like this gives us about the same number of documents in the poorly rated  pool and the highly rated pool."
   ]
  },
  {
   "cell_type": "code",
   "execution_count": 30,
   "metadata": {},
   "outputs": [],
   "source": [
    "# this code is adapted from https://pythonprogramming.net/words-as-features-nltk-tutorial/?completed=/text-classification-nltk-tutorial/\n",
    "import nltk, re\n",
    "from collections import Counter\n",
    "from nltk.tokenize import word_tokenize\n",
    "import random\n",
    "random.seed(10)\n",
    "# labeling function\n",
    "def assign_label(x):\n",
    "    if x < 4:\n",
    "        return \"poorly\"\n",
    "    if x < 7:\n",
    "        return np.nan\n",
    "    return \"highly\"\n",
    "\n",
    "# get the label\n",
    "ind = movie_df['Score'].apply(assign_label)\n",
    "df_text = movie_df\n",
    "df_text['ind'] = ind.values\n",
    "df_text = df_text.drop(\"Gross\", axis = 1)\n",
    "df_text = df_text.dropna()\n",
    "\n",
    "res = []\n",
    "\n",
    "# helper function that tokenize the text into a word list\n",
    "def to_list(w):\n",
    "    w = re.sub(r'[^\\w\\s]','',w)\n",
    "    return word_tokenize(w.lower())\n",
    "\n",
    "documents = list(zip(df_text.Summary.apply(to_list), df_text.ind))\n",
    "random.shuffle(documents)\n",
    "\n",
    "# get the word features\n",
    "all_words = list(filter(lambda x: len(x) >1, word_tokenize(re.sub(r'[^\\w\\s]',\" \",\" \".join(df_text[\"Summary\"])).lower())))\n",
    "all_words = nltk.FreqDist(all_words)\n",
    "word_features = [ w for (w,c) in list(all_words.most_common(1000)) if w != \"ii\"]\n",
    "\n",
    "# convert a document into a feature set\n",
    "def find_features(document):\n",
    "    words = set(document)\n",
    "    features = {}\n",
    "    for w in word_features:\n",
    "        features[w] = (w in words)\n",
    "    return features\n",
    "\n",
    "# create the feature sets\n",
    "featuresets = [(find_features(rev), category) for (rev, category) in documents]\n",
    "training_set = featuresets[:3000]\n",
    "\n",
    "# train the classifier \n",
    "classifier = nltk.NaiveBayesClassifier.train(training_set)"
   ]
  },
  {
   "cell_type": "markdown",
   "metadata": {},
   "source": [
    "Before looking at the most informative features, we can check the accuracy of the classifier."
   ]
  },
  {
   "cell_type": "code",
   "execution_count": 31,
   "metadata": {},
   "outputs": [
    {
     "name": "stdout",
     "output_type": "stream",
     "text": [
      "Classifier accuracy percent: 72.59887005649718\n"
     ]
    }
   ],
   "source": [
    "testing_set = featuresets[3000:]\n",
    "print(\"Classifier accuracy percent:\",(nltk.classify.accuracy(classifier, testing_set))*100)"
   ]
  },
  {
   "cell_type": "markdown",
   "metadata": {},
   "source": [
    "Although the accuracy is not particularly strong, given the sample size it is pretty good.\n",
    "Lets see what features it gives us."
   ]
  },
  {
   "cell_type": "code",
   "execution_count": 32,
   "metadata": {
    "scrolled": false
   },
   "outputs": [
    {
     "name": "stdout",
     "output_type": "stream",
     "text": [
      "Most Informative Features\n",
      "                    hell = True           poorly : highly =     13.8 : 1.0\n",
      "                 ancient = True           poorly : highly =     13.8 : 1.0\n",
      "                 zombies = True           poorly : highly =     12.0 : 1.0\n",
      "                 accused = True           highly : poorly =     10.8 : 1.0\n",
      "                 english = True           highly : poorly =     10.3 : 1.0\n",
      "                 crashes = True           poorly : highly =     10.2 : 1.0\n",
      "                   woods = True           poorly : highly =      9.8 : 1.0\n",
      "                  crazed = True           poorly : highly =      9.3 : 1.0\n",
      "                   witch = True           poorly : highly =      9.3 : 1.0\n",
      "              determined = True           highly : poorly =      8.8 : 1.0\n",
      "               struggles = True           highly : poorly =      8.6 : 1.0\n",
      "                   widow = True           highly : poorly =      7.8 : 1.0\n",
      "                gangster = True           highly : poorly =      7.8 : 1.0\n",
      "              scientists = True           poorly : highly =      7.7 : 1.0\n",
      "              terrorized = True           poorly : highly =      7.5 : 1.0\n",
      "               vengeance = True           poorly : highly =      7.5 : 1.0\n",
      "                 monster = True           poorly : highly =      7.4 : 1.0\n",
      "                  aliens = True           poorly : highly =      7.2 : 1.0\n",
      "              terrorists = True           poorly : highly =      7.2 : 1.0\n",
      "                 british = True           highly : poorly =      7.1 : 1.0\n"
     ]
    }
   ],
   "source": [
    "classifier.show_most_informative_features(20)"
   ]
  },
  {
   "cell_type": "markdown",
   "metadata": {},
   "source": [
    "From the most informative features we can see that films related to \"british\", \"accused\", \"englisj\", \"determined\", \"widow\" are very likely to be a good movie and the ones related to supernatural forces and violence are likely to be poorly rated. The word \"hell\" is 13.8 times more likely to occur in a movie with poor scores. This is interesting and aligns with our discovery of the score differences towards genres."
   ]
  },
  {
   "cell_type": "markdown",
   "metadata": {},
   "source": [
    "## Conclusions\n",
    "\n",
    "From this analysis, we can see that there is a relationship between the movie scores and the film genre, release year, and gross. Although the score of movie from IMDb is a good measure of movie quality, they vary significantly across genres.   \n",
    "For example, the scores of more serious categories like \"Biography\" and \"History\" have relatively higher scores in general, but they may be films that majority of us won't enjoy.  \n",
    "Be aware of those factors (year, genres, ...) and don’t blindly believe the scores!   \n",
    "A 4 star horror movie may already be the best horror film of that decade!"
   ]
  },
  {
   "cell_type": "markdown",
   "metadata": {},
   "source": [
    "## Future Investigations\n",
    "\n",
    "- Explore more features that may explain the variability in the scores. (Eg. Actors and Directors can influence the scores)\n",
    "- Investigate more on some abnormal observations. \n",
    "- Run some other machine learning models on the data. (Eg. SVM)"
   ]
  },
  {
   "cell_type": "markdown",
   "metadata": {},
   "source": [
    "## Sources Consulted\n",
    "Libraries:\n",
    "\tSklearn, regressors, nltk, pandas, numpy, requests, beautiful soup  \n",
    "Sources:  \n",
    "https://pythonprogramming.net/words-as-features-nltk-tutorial/?completed=/text-classification-nltk-tutorial/  \n",
    "https://www.quora.com/How-does-IMDbs-rating-system-work  \n",
    "https://stats.stackexchange.com/questions/189658/what-are-good-resources-on-bayesian-rating\t  \n",
    "\n"
   ]
  }
 ],
 "metadata": {
  "kernelspec": {
   "display_name": "Python 3",
   "language": "python",
   "name": "python3"
  },
  "language_info": {
   "codemirror_mode": {
    "name": "ipython",
    "version": 3
   },
   "file_extension": ".py",
   "mimetype": "text/x-python",
   "name": "python",
   "nbconvert_exporter": "python",
   "pygments_lexer": "ipython3",
   "version": "3.6.4"
  }
 },
 "nbformat": 4,
 "nbformat_minor": 2
}
